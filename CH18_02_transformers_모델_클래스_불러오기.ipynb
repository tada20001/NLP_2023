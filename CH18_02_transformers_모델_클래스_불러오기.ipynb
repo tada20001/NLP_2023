{
  "nbformat": 4,
  "nbformat_minor": 0,
  "metadata": {
    "colab": {
      "provenance": [],
      "authorship_tag": "ABX9TyOdIFaLXXdaQBdhsswILUGU",
      "include_colab_link": true
    },
    "kernelspec": {
      "name": "python3",
      "display_name": "Python 3"
    },
    "language_info": {
      "name": "python"
    },
    "accelerator": "GPU",
    "gpuClass": "standard"
  },
  "cells": [
    {
      "cell_type": "markdown",
      "metadata": {
        "id": "view-in-github",
        "colab_type": "text"
      },
      "source": [
        "<a href=\"https://colab.research.google.com/github/tada20001/NLP_2023/blob/main/CH18_02_transformers_%EB%AA%A8%EB%8D%B8_%ED%81%B4%EB%9E%98%EC%8A%A4_%EB%B6%88%EB%9F%AC%EC%98%A4%EA%B8%B0.ipynb\" target=\"_parent\"><img src=\"https://colab.research.google.com/assets/colab-badge.svg\" alt=\"Open In Colab\"/></a>"
      ]
    },
    {
      "cell_type": "markdown",
      "source": [
        "transformers 라이브러리에서는 각종 태스크에 맞게 BERT 위에 출력층을 추가한 모델 클래스 구현체를 제공하고 있음. 아래의 구현체를 사용하면 별도의 출력층을 설계할 필요없이 태스크에 맞게 모델을 로드하여 사용할 수 있음\n",
        "\n",
        "모델의 구조를 이해하기 위해 모든 실습에서 출력층을 직접 설계하여 실습을 하지만, 이미 모델의 구조에서 이해한 상황에서는 출력층이 설계된 모델을 사용하는 것이 편함\n",
        "\n",
        "\n",
        "### 1. 다대일 유형(many-to-one)\n",
        "----------------------------\n",
        "텍스트 분류에서 주로 사용되는 모델. 다음과 같이 모델 구현\n",
        "\n",
        "\n",
        "from transformers import TFBertForSequenceClassification\n",
        "\n",
        "model = TFBertForSequenceClassification.from_pretrained(\"모델 이름\", num_labels=분류할 레이블의 개수)\n",
        "\n",
        "\n",
        "### 2. 다대다 유형(many-to-many) \n",
        "-------------------------\n",
        "다수의 입력에 대해 다수의 출력이 필요할 때 사용하는 모델. 개체명 인식이 대표적임\n",
        "\n",
        "from transformers import TFBertForTokenClassification\n",
        "\n",
        "model = TFBertForTokenClassification.from_pretrained(\"모델 이름\", num_labels=분류할 레이블의 개수)\n",
        "\n",
        "\n",
        "### 3. 질의응답 유형(Question Answering) \n",
        "-----------------------\n",
        "기계 독해 모델\n",
        "\n",
        "from transformers import TFBertForQuestionAnswering\n",
        "\n",
        "model = TFBertForQuestionAnswering.from_pretrained('모델 이름')"
      ],
      "metadata": {
        "id": "0oZQpJ0gdl_p"
      }
    },
    {
      "cell_type": "code",
      "source": [],
      "metadata": {
        "id": "FP-4s5y_eajr"
      },
      "execution_count": null,
      "outputs": []
    }
  ]
}