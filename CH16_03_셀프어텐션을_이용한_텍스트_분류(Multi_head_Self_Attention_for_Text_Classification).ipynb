{
  "nbformat": 4,
  "nbformat_minor": 0,
  "metadata": {
    "colab": {
      "provenance": [],
      "authorship_tag": "ABX9TyNhTQuMOLHaxRwM9ZBn46f5",
      "include_colab_link": true
    },
    "kernelspec": {
      "name": "python3",
      "display_name": "Python 3"
    },
    "language_info": {
      "name": "python"
    }
  },
  "cells": [
    {
      "cell_type": "markdown",
      "metadata": {
        "id": "view-in-github",
        "colab_type": "text"
      },
      "source": [
        "<a href=\"https://colab.research.google.com/github/tada20001/NLP_2023/blob/main/CH16_03_%EC%85%80%ED%94%84%EC%96%B4%ED%85%90%EC%85%98%EC%9D%84_%EC%9D%B4%EC%9A%A9%ED%95%9C_%ED%85%8D%EC%8A%A4%ED%8A%B8_%EB%B6%84%EB%A5%98(Multi_head_Self_Attention_for_Text_Classification).ipynb\" target=\"_parent\"><img src=\"https://colab.research.google.com/assets/colab-badge.svg\" alt=\"Open In Colab\"/></a>"
      ]
    },
    {
      "cell_type": "markdown",
      "source": [
        "트랜스포머는 RNN 계열의 seq2seq를 대체하기 위해 등장함. 그리고 트랜스포머의 인코더는 RNN 인코더를, 트랜스포머의 디코더는 RNN 디코더를 대체할 수 있었음\n",
        "\n",
        "트랜스포머의 인코더는 셀프 어텐션이라는 메커니즘을 통해 문장을 이해함. RNN과 그 동작방식은 다르지만, RNN이 텍스트 분류나 개체명인식과 같은 다양한 자연어 처리태스크에 쓰일 수 있다면, 트랜스포머의 인코더 또한 가능할 것임\n",
        "\n",
        "\n",
        "실제, 트랜스포머의 인코더는 다양한 분야의 자연어 처리 태스크에서 사용될 수 있었고, 이 아이디어는 후에 배우게 될 BERT라는 모델로 이어지게 됨\n",
        "\n",
        "이번 챕터에서 트랜스포머의 인코더를 사용하여 텍스트 분류를 수행함\n",
        "\n",
        "### 1. 멀티 헤드 어텐션\n",
        "--------------------\n",
        "우선 트랜스포머의 인코더 첫번째 서브층인 멀티헤드 어텐션층을 클래스로 구현함"
      ],
      "metadata": {
        "id": "8_Ej_GyORPLb"
      }
    },
    {
      "cell_type": "code",
      "execution_count": 1,
      "metadata": {
        "id": "9-WNxuxLQ9M_"
      },
      "outputs": [],
      "source": [
        "import tensorflow as tf"
      ]
    },
    {
      "cell_type": "code",
      "source": [
        "class MultiHeadAttention(tf.keras.layers.Layer):\n",
        "  def __init__(self, embedding_dim, num_heads=8):\n",
        "    super(MultiHeadAttention, self).__init__()\n",
        "    self.embedding_dim = embedding_dim  # d_model\n",
        "    self.num_heads = num_heads\n",
        "\n",
        "    assert embedding_dim % self.num_heads == 0\n",
        "\n",
        "    self.projection_dim = embedding_dim // num_heads \n",
        "    self.query_dense = tf.keras.layers.Dense(embedding_dim)\n",
        "    self.key_dense = tf.keras.layers.Dense(embedding_dim)\n",
        "    self.value_dense = tf.keras.layers.Dense(embedding_dim)\n",
        "    self.dense = tf.keras.layers.Dense(embedding_dim)\n",
        "\n",
        "  def scaled_dot_product_attention(self, query, key, value):\n",
        "    matmul_qk = tf.matmul(query, key, transpose_b=True)\n",
        "    depth = tf.cast(tf.shape(key)[-1], tf.float32)\n",
        "    logits = matmul_qk / tf.math.sqrt(depth)\n",
        "    attention_weights = tf.nn.softmax(logits, axis=-1)  # 소프트맥스 함수는 마지막 차원인 Key의 문장길이 방향으로 수행\n",
        "    output = tf.matmul(attention_weights, value)\n",
        "    return output, attention_weights\n",
        "\n",
        "  def split_heads(self, x, batch_size):\n",
        "    x = tf.reshape(x, (batch_size, -1, self.num_heads, self.projection_dim))\n",
        "    return tf.transpose(x, perm=[0, 2, 1, 3])\n",
        "\n",
        "  def call(self, inputs):\n",
        "    #inputs.shape = [batch_size, seq_len, embedding_dim]\n",
        "    batch_size = tf.shape(inputs)[0]\n",
        "\n",
        "    # (batch_size, seq_len, embedding_dim)\n",
        "    query = self.query_dense(inputs)\n",
        "    key = self.key_dense(inputs)\n",
        "    value = self.value_dense(inputs)\n",
        "\n",
        "    # (batch_size, num_heads, seq_len, projection_dim)\n",
        "    query = self.split_heads(query, batch_size)\n",
        "    key = self.split_heads(key, batch_size)\n",
        "    value = self.split_heads(value, batch_size)\n",
        "\n",
        "    scaled_attention, _ = self.scaled_dot_product_attention(query, key, value)\n",
        "    scaled_attention = tf.transpose(scaled_attention, perm=[0, 2, 1, 3])\n",
        "\n",
        "    # (batch_size, seq_len, embedding_dim)\n",
        "    concat_attention = tf.reshape(scaled_attention, (batch_size, -1, self.embedding_dim))\n",
        "    outputs = self.dense(concat_attention)\n",
        "    return outputs\n",
        "\n"
      ],
      "metadata": {
        "id": "mjzTBbCBSCPI"
      },
      "execution_count": 2,
      "outputs": []
    },
    {
      "cell_type": "markdown",
      "source": [
        "### 2. 인코더 설계하기\n",
        "--------------------\n",
        "멀티헤드 어텐션에 두번째 서브층인 포지션 와이즈 FFNN을 추가하여 인코더 클래스를 설계함"
      ],
      "metadata": {
        "id": "xOOnHxjoZNkj"
      }
    },
    {
      "cell_type": "code",
      "source": [
        "class TransformerBlock(tf.keras.layers.Layer):\n",
        "  def __init__(self, embedding_dim, num_heads, dff, rate=0.1):\n",
        "    super(TransformerBlock, self).__init__()\n",
        "    self.att = MultiHeadAttention(embedding_dim, num_heads)\n",
        "    self.ffn = tf.keras.Sequential(\n",
        "        [tf.keras.layers.Dense(dff, activation='relu'), tf.keras.layers.Dense(embedding_dim)])\n",
        "    self.layernorm1 = tf.keras.layers.LayerNormalization(epsilon=1e-6)\n",
        "    self.layernorm2 = tf.keras.layers.LayerNormalization(epsilon=1e-6)\n",
        "    self.dropout1 = tf.keras.layers.Dropout(rate)\n",
        "    self.dropout2 = tf.keras.layers.Dropout(rate)\n",
        "\n",
        "  def call(self, inputs, training):\n",
        "    attn_output = self.att(inputs)  # 첫번째 서브층 : 멀티헤드어텐션\n",
        "    attn_output = self.dropout1(attn_output, training=training)\n",
        "    out1 = self.layernorm1(inputs + attn_output)  # Add & Norm\n",
        "    ffn_output = self.ffn(out1) # 두번째 서브층 : 포지션 와이즈 FFNN\n",
        "    ffn_output = self.dropout2(ffn_output, training=training)\n",
        "    return self.layernorm2(out1 + ffn_output)  # Add & Norm"
      ],
      "metadata": {
        "id": "k_Obxat1ZMbu"
      },
      "execution_count": 3,
      "outputs": []
    },
    {
      "cell_type": "markdown",
      "source": [
        "### 3. 포지션 임베딩\n",
        "--------------\n",
        "앞서 트랜스포머를 설명할 때는 포지셔널 인코딩을 사용했지만, 여기에서는 위치정보자체를 학습하기도록 하는 **포지션 임베딩 방법**을 사용함\n",
        "\n",
        "이는 뒤에서 배우게 될 BERT에서 사용하는 방법으로, 포지션 임베딩은 임베딩층을 사용하되, 위치벡터를 학습하도록 하므로 임베딩 층의 첫번째 인자로 단어집합 크기가 아니라, 문장의 최대 길이를 넣어줌\n"
      ],
      "metadata": {
        "id": "KrwsQlswlsa4"
      }
    },
    {
      "cell_type": "code",
      "source": [
        "class TokenAndPositionEmbedding(tf.keras.layers.Layer):\n",
        "  def __init__(self, max_len, vocab_size, embedding_dim):\n",
        "    super(TokenAndPositionEmbedding, self).__init__()\n",
        "    self.token_emb = tf.keras.layers.Embedding(vocab_size, embedding_dim)\n",
        "    self.pos_emb = tf.keras.layers.Embedding(max_len, embedding_dim)\n",
        "\n",
        "  def call(self, x):\n",
        "    max_len = tf.shape(x)[-1]\n",
        "    positions = tf.range(start=0, limit=max_len, delta=1)\n",
        "    positions = self.pos_emb(positions)\n",
        "    x = self.token_emb(x)\n",
        "    return x + positions"
      ],
      "metadata": {
        "id": "KDyrWnUAlq5C"
      },
      "execution_count": 4,
      "outputs": []
    },
    {
      "cell_type": "markdown",
      "source": [
        "### 4. 데이터 로드 및 전처리\n",
        "-------------"
      ],
      "metadata": {
        "id": "kWKIG3pbobrM"
      }
    },
    {
      "cell_type": "code",
      "source": [
        "vocab_size = 20000  # 빈도수 상위 2만개의 단어만 사용\n",
        "max_len = 200  # 문장의 최대 길이\n",
        "\n",
        "(X_train, y_train), (X_test, y_test) = tf.keras.datasets.imdb.load_data(num_words=vocab_size)\n",
        "print('훈련용 리뷰 개수 : {}'.format(len(X_train)))\n",
        "print('테스트용 리뷰 개수 : {}'.format(len(X_test)))"
      ],
      "metadata": {
        "colab": {
          "base_uri": "https://localhost:8080/"
        },
        "id": "m6z1335UoaX8",
        "outputId": "6b9920b8-7c72-4008-82b2-fa8977daab8c"
      },
      "execution_count": 5,
      "outputs": [
        {
          "output_type": "stream",
          "name": "stdout",
          "text": [
            "훈련용 리뷰 개수 : 25000\n",
            "테스트용 리뷰 개수 : 25000\n"
          ]
        }
      ]
    },
    {
      "cell_type": "code",
      "source": [
        "X_train = tf.keras.preprocessing.sequence.pad_sequences(X_train, maxlen=max_len)\n",
        "X_test = tf.keras.preprocessing.sequence.pad_sequences(X_test, maxlen=max_len)"
      ],
      "metadata": {
        "id": "WK1H6ielo7Q9"
      },
      "execution_count": 6,
      "outputs": []
    },
    {
      "cell_type": "markdown",
      "source": [
        "### 5. 트랜스포머를 이용한 IMDB 리뷰 분류\n",
        "--------------------\n"
      ],
      "metadata": {
        "id": "MGPxtDLcpQfD"
      }
    },
    {
      "cell_type": "code",
      "source": [
        "embedding_dim = 32  # 각 단어의 임베딩 벡터의 차원\n",
        "num_heads = 2 # 어텐션 헤드 수\n",
        "dff = 32  # 포지션 와이즈 FFNN 은닉층의 크기\n",
        "\n",
        "inputs = tf.keras.layers.Input(shape=(max_len,))\n",
        "embedding_layer = TokenAndPositionEmbedding(max_len, vocab_size, embedding_dim)\n",
        "x = embedding_layer(inputs)\n",
        "transformer_block = TransformerBlock(embedding_dim, num_heads, dff)\n",
        "x = transformer_block(x)\n",
        "x = tf.keras.layers.GlobalAveragePooling1D()(x)\n",
        "x = tf.keras.layers.Dropout(0.1)(x)\n",
        "x = tf.keras.layers.Dense(20, activation='relu')(x)\n",
        "x = tf.keras.layers.Dropout(0.1)(x)\n",
        "outputs = tf.keras.layers.Dense(2, activation='softmax')(x)\n",
        "\n",
        "model = tf.keras.Model(inputs=inputs, outputs=outputs)"
      ],
      "metadata": {
        "id": "-OU_k2HypOv9"
      },
      "execution_count": 7,
      "outputs": []
    },
    {
      "cell_type": "code",
      "source": [
        "model.compile(\"adam\", \"sparse_categorical_crossentropy\", metrics=['accuracy'])\n",
        "history = model.fit(X_train, y_train, batch_size=32, epochs=3, validation_data=(X_test, y_test))"
      ],
      "metadata": {
        "colab": {
          "base_uri": "https://localhost:8080/"
        },
        "id": "SWHdLxw4rL4n",
        "outputId": "c8a77dd2-af78-4cfe-b2fd-ce271945f110"
      },
      "execution_count": 10,
      "outputs": [
        {
          "output_type": "stream",
          "name": "stdout",
          "text": [
            "Epoch 1/3\n",
            "782/782 [==============================] - 56s 69ms/step - loss: 0.1372 - accuracy: 0.9506 - val_loss: 0.5929 - val_accuracy: 0.8048\n",
            "Epoch 2/3\n",
            "782/782 [==============================] - 61s 78ms/step - loss: 0.0929 - accuracy: 0.9692 - val_loss: 0.4894 - val_accuracy: 0.8521\n",
            "Epoch 3/3\n",
            "782/782 [==============================] - 65s 84ms/step - loss: 0.0605 - accuracy: 0.9800 - val_loss: 0.5960 - val_accuracy: 0.8442\n"
          ]
        }
      ]
    },
    {
      "cell_type": "code",
      "source": [
        "print(\"테스트 정확도: %.4f\" % (model.evaluate(X_test, y_test)[1]))"
      ],
      "metadata": {
        "colab": {
          "base_uri": "https://localhost:8080/"
        },
        "id": "n48r0uSQxHE5",
        "outputId": "4c04577c-350e-4284-f4a0-48a192729bf1"
      },
      "execution_count": 9,
      "outputs": [
        {
          "output_type": "stream",
          "name": "stdout",
          "text": [
            "782/782 [==============================] - 14s 17ms/step - loss: 0.3375 - accuracy: 0.8628\n",
            "테스트 정확도: 0.8628\n"
          ]
        }
      ]
    },
    {
      "cell_type": "code",
      "source": [
        "print(\"테스트 정확도: %.4f\" % (model.evaluate(X_test, y_test)[1]))"
      ],
      "metadata": {
        "colab": {
          "base_uri": "https://localhost:8080/"
        },
        "id": "bCY9SXVMz6mR",
        "outputId": "e37854ad-d2da-4337-9cb1-4d3b9ca4136b"
      },
      "execution_count": 11,
      "outputs": [
        {
          "output_type": "stream",
          "name": "stdout",
          "text": [
            "782/782 [==============================] - 13s 17ms/step - loss: 0.5960 - accuracy: 0.8442\n",
            "테스트 정확도: 0.8442\n"
          ]
        }
      ]
    }
  ]
}