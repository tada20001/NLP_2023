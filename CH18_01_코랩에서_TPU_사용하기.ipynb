{
  "nbformat": 4,
  "nbformat_minor": 0,
  "metadata": {
    "colab": {
      "provenance": [],
      "authorship_tag": "ABX9TyO6A60gOBlZAZNZvDbAqod/",
      "include_colab_link": true
    },
    "kernelspec": {
      "name": "python3",
      "display_name": "Python 3"
    },
    "language_info": {
      "name": "python"
    },
    "accelerator": "TPU",
    "gpuClass": "standard"
  },
  "cells": [
    {
      "cell_type": "markdown",
      "metadata": {
        "id": "view-in-github",
        "colab_type": "text"
      },
      "source": [
        "<a href=\"https://colab.research.google.com/github/tada20001/NLP_2023/blob/main/CH18_01_%EC%BD%94%EB%9E%A9%EC%97%90%EC%84%9C_TPU_%EC%82%AC%EC%9A%A9%ED%95%98%EA%B8%B0.ipynb\" target=\"_parent\"><img src=\"https://colab.research.google.com/assets/colab-badge.svg\" alt=\"Open In Colab\"/></a>"
      ]
    },
    {
      "cell_type": "code",
      "execution_count": null,
      "metadata": {
        "id": "krgjtd87T8IU"
      },
      "outputs": [],
      "source": []
    },
    {
      "cell_type": "markdown",
      "source": [
        "### 1. 코랩에서 TPU 선택\n",
        "-----------------\n",
        "* Colab에서 런타임 > 런타임 유형 변경 > 하드웨어 가속기에서 'TPU' 선택\n",
        "\n",
        "### 2. TPU 초기화\n",
        "---------------\n",
        "딥러닝 모델을 정의하기 전에 아래의 설정을 미리 해주어야 하므로 아래의 코드는 초반부에 실행해 줌\n"
      ],
      "metadata": {
        "id": "Uz0QG02tUVeK"
      }
    },
    {
      "cell_type": "code",
      "source": [
        "import tensorflow as tf\n",
        "import os\n",
        "\n",
        "resolver = tf.distribute.cluster_resolver.TPUClusterResolver(tpu='grpc://' + os.environ['COLAB_TPU_ADDR'])\n",
        "\n",
        "tf.config.experimental_connect_to_cluster(resolver)\n",
        "tf.tpu.experimental.initialize_tpu_system(resolver)"
      ],
      "metadata": {
        "colab": {
          "base_uri": "https://localhost:8080/"
        },
        "id": "DYcvxtXlUuFa",
        "outputId": "a5368537-6560-4678-df2c-eeb90e58b05c"
      },
      "execution_count": 1,
      "outputs": [
        {
          "output_type": "execute_result",
          "data": {
            "text/plain": [
              "<tensorflow.python.tpu.topology.Topology at 0x7f945e75fd60>"
            ]
          },
          "metadata": {},
          "execution_count": 1
        }
      ]
    },
    {
      "cell_type": "markdown",
      "source": [
        "### 3. TPU Strategy 셋팅\n",
        "------------------------\n",
        "tf.distribute.Strategy는 훈련을 여러 GPU 또는 여러 장비, 여러 TPU로 나누어 처리하기 위한 텐서플로 API임\n",
        "\n",
        "\n",
        "이 API를 사용하면 기존의 모델이나 훈련코드를 분산처리할 수 있음. TPU 사용을 위해서도 Strategy를 셋팅해 줌\n",
        "\n"
      ],
      "metadata": {
        "id": "ACmIvpQVX7Oi"
      }
    },
    {
      "cell_type": "code",
      "source": [
        "strategy = tf.distribute.TPUStrategy(resolver)"
      ],
      "metadata": {
        "id": "SFbcnfHdVFvQ"
      },
      "execution_count": 2,
      "outputs": []
    },
    {
      "cell_type": "markdown",
      "source": [
        "### 4. 딥러닝 모델의 컴파일\n",
        "-----------------------\n",
        "딥러닝 모델을 컴파일 할 때도 추가적인 코드가 필요함. 모델의 컴파일은 strategy.scope 내에서 이루어져야 함. 이는 모델의 층을 쌓는 create_model()과 같은 함수를 만들어 strategy.scope 내에서 해당 함수를 호출하여 모델을 컴파일하는 방식으로 할 수 있음. \n",
        "\n",
        "\n",
        "\n",
        "예를 들어...."
      ],
      "metadata": {
        "id": "fFdyc6quYbNl"
      }
    },
    {
      "cell_type": "code",
      "source": [
        "def create_model():\n",
        "  return tf.keras.Sequential(\n",
        "      [tf.keras.layers.Conv2D(256, 3, activation='relu', input_shape=(28, 28, 1)), \n",
        "       tf.keras.layers.Conv2D(256, 3, activation='relu'), \n",
        "       tf.keras.layers.Flatten(), \n",
        "       tf.keras.layers.Dense(256, activation='relu'), \n",
        "       tf.keras.layers.Dense(128, activation='relu'),\n",
        "       tf.keras.layers.Dense(10)]\n",
        "  )"
      ],
      "metadata": {
        "id": "kcHp6v2ZYaAo"
      },
      "execution_count": 3,
      "outputs": []
    },
    {
      "cell_type": "code",
      "source": [
        "# 위의 함수를 호출하고 컴파일함\n",
        "with strategy.scope():\n",
        "  model = create_model()\n",
        "  model.compile(optimizer='adam', \n",
        "                loss=tf.keras.losses.SparseCategoricalCrossentropy(from_logits=True), \n",
        "                metrics=['sparse_categorical_accuracy'])"
      ],
      "metadata": {
        "id": "EAsx5I0OZQ2c"
      },
      "execution_count": 4,
      "outputs": []
    },
    {
      "cell_type": "markdown",
      "source": [
        "위의 모델을 fit()하게 됨녀 해당 모델은 TPU를 사용하며 학습하게 됨. BERT 모델의 파인튜닝을 할 때에도 위 과정과 동일한 과정을 거침\n",
        "\n",
        "\n",
        "### 5. GPU 실습 코드로 되돌리기\n",
        "------------------------\n",
        "위에서 모델의 레이어들을 쌓고, 컴파일하는 코드를 제외하고 TPU 만을 위한 코드만 제거하면 됨"
      ],
      "metadata": {
        "id": "MYPJnniEZv-0"
      }
    },
    {
      "cell_type": "code",
      "source": [],
      "metadata": {
        "id": "5tfwfeKDZoin"
      },
      "execution_count": null,
      "outputs": []
    }
  ]
}