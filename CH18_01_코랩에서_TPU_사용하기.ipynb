{
  "nbformat": 4,
  "nbformat_minor": 0,
  "metadata": {
    "colab": {
      "provenance": [],
      "authorship_tag": "ABX9TyNRFNnnNdtFp4pEM6mYQqr1",
      "include_colab_link": true
    },
    "kernelspec": {
      "name": "python3",
      "display_name": "Python 3"
    },
    "language_info": {
      "name": "python"
    },
    "accelerator": "TPU",
    "gpuClass": "standard"
  },
  "cells": [
    {
      "cell_type": "markdown",
      "metadata": {
        "id": "view-in-github",
        "colab_type": "text"
      },
      "source": [
        "<a href=\"https://colab.research.google.com/github/tada20001/NLP_2023/blob/main/CH18_01_%EC%BD%94%EB%9E%A9%EC%97%90%EC%84%9C_TPU_%EC%82%AC%EC%9A%A9%ED%95%98%EA%B8%B0.ipynb\" target=\"_parent\"><img src=\"https://colab.research.google.com/assets/colab-badge.svg\" alt=\"Open In Colab\"/></a>"
      ]
    },
    {
      "cell_type": "markdown",
      "source": [
        "### 1. 코랩에서 TPU 선택\n",
        "### 2. TPU 초기화\n",
        "-----------"
      ],
      "metadata": {
        "id": "xicT2pAvnKms"
      }
    },
    {
      "cell_type": "code",
      "execution_count": 1,
      "metadata": {
        "id": "da9Nc-0PmRef"
      },
      "outputs": [],
      "source": [
        "import tensorflow as tf\n",
        "import os"
      ]
    },
    {
      "cell_type": "code",
      "source": [
        "resolver = tf.distribute.cluster_resolver.TPUClusterResolver(tpu='grpc://' + os.environ['COLAB_TPU_ADDR'])\n",
        "\n",
        "tf.config.experimental_connect_to_cluster(resolver)\n",
        "tf.tpu.experimental.initialize_tpu_system(resolver)"
      ],
      "metadata": {
        "colab": {
          "base_uri": "https://localhost:8080/"
        },
        "id": "LryyHlGTnTx2",
        "outputId": "581fbe48-2a8f-4b6e-832f-d5fde520645b"
      },
      "execution_count": 2,
      "outputs": [
        {
          "output_type": "execute_result",
          "data": {
            "text/plain": [
              "<tensorflow.python.tpu.topology.Topology at 0x7fd9a32f5fa0>"
            ]
          },
          "metadata": {},
          "execution_count": 2
        }
      ]
    },
    {
      "cell_type": "markdown",
      "source": [
        "### 3. TPU Strategy 셋팅\n",
        "-------------------\n",
        "여러 GPU 도는 여러 장비, 여러 TPU로 나누어 처리하기 위한 텐서플로 API. \n",
        "\n",
        "이 API를 사용하면 기존의 모델이나 훈련 코드를 분산처리 할 수 있음. "
      ],
      "metadata": {
        "id": "ERX-3h7bnxg4"
      }
    },
    {
      "cell_type": "code",
      "source": [
        "strategy = tf.distribute.TPUStrategy(resolver)"
      ],
      "metadata": {
        "id": "i0yrv37Nnqpi"
      },
      "execution_count": 3,
      "outputs": []
    },
    {
      "cell_type": "markdown",
      "source": [
        "### 4. 딥러닝 모델의 컴파일\n",
        "------------------\n",
        "딥러닝 컴파일 할 때도 추가적인 코드 필요. 모델의 컴파일은 strategy.scope내에서 이루어져야 함. 이는 모델의 층을 쌓는 create_model()과 같은 함수를 만들어 strategy.scope 내에서 해당 함수를 호출하여 모델을 컴파일하는 방식으로 할 수 있음"
      ],
      "metadata": {
        "id": "utZjUlyBoKwD"
      }
    },
    {
      "cell_type": "code",
      "source": [
        "def create_model():\n",
        "  return tf.keras.Sequential(\n",
        "      [\n",
        "          tf.keras.layers.Conv2D(256, 3, activation='relu', input_shape=(28, 28, 1)),\n",
        "          tf.keras.layers.Conv2D(256, 3, activation='relu'),\n",
        "          tf.keras.layers.Flatten(),\n",
        "          tf.keras.layers.Dense(256, activation='relu'),\n",
        "          tf.keras.layers.Dense(128, activation='relu'),\n",
        "          tf.keras.layers.Dense(10)\n",
        "      ]\n",
        "  )"
      ],
      "metadata": {
        "id": "YvUir4-VoI0-"
      },
      "execution_count": 4,
      "outputs": []
    },
    {
      "cell_type": "markdown",
      "source": [
        "with strategy.scope(): 다음에 들여쓰기를 하고, create_model() 함수를 호출하고 모델을 컴파일함"
      ],
      "metadata": {
        "id": "WhHdoZEiqZYr"
      }
    },
    {
      "cell_type": "code",
      "source": [
        "with strategy.scope():\n",
        "  model = create_model()\n",
        "  model.compile(optimizer='adam', \n",
        "                loss=tf.keras.losses.SparseCategoricalCrossentropy(from_logits=True), \n",
        "                metrics=['sparse_categorical_accuracy'])"
      ],
      "metadata": {
        "id": "sPTcAfHrqW-o"
      },
      "execution_count": 5,
      "outputs": []
    },
    {
      "cell_type": "markdown",
      "source": [
        "위의 모델을 fit() 하게되면 해당 모델은 TPU를 사용하며 학습하게 됨. "
      ],
      "metadata": {
        "id": "3oQVhmkHsxts"
      }
    },
    {
      "cell_type": "code",
      "source": [],
      "metadata": {
        "id": "xPvQlq4_svi-"
      },
      "execution_count": null,
      "outputs": []
    },
    {
      "cell_type": "code",
      "source": [],
      "metadata": {
        "id": "AIoECjqr3vet"
      },
      "execution_count": null,
      "outputs": []
    }
  ]
}