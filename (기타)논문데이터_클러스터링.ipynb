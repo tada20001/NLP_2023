{
  "nbformat": 4,
  "nbformat_minor": 0,
  "metadata": {
    "colab": {
      "provenance": [],
      "authorship_tag": "ABX9TyOGU9j5Wx7+MLUxIfWUy9LI",
      "include_colab_link": true
    },
    "kernelspec": {
      "name": "python3",
      "display_name": "Python 3"
    },
    "language_info": {
      "name": "python"
    }
  },
  "cells": [
    {
      "cell_type": "markdown",
      "metadata": {
        "id": "view-in-github",
        "colab_type": "text"
      },
      "source": [
        "<a href=\"https://colab.research.google.com/github/tada20001/NLP_2023/blob/main/(%EA%B8%B0%ED%83%80)%EB%85%BC%EB%AC%B8%EB%8D%B0%EC%9D%B4%ED%84%B0_%ED%81%B4%EB%9F%AC%EC%8A%A4%ED%84%B0%EB%A7%81.ipynb\" target=\"_parent\"><img src=\"https://colab.research.google.com/assets/colab-badge.svg\" alt=\"Open In Colab\"/></a>"
      ]
    },
    {
      "cell_type": "code",
      "execution_count": 21,
      "metadata": {
        "id": "F_2XQOE3z1H8"
      },
      "outputs": [],
      "source": [
        "import pandas as pd\n",
        "from gensim.models.doc2vec import TaggedDocument\n",
        "from tqdm import tqdm\n",
        "from nltk import word_tokenize, sent_tokenize\n",
        "import re"
      ]
    },
    {
      "cell_type": "code",
      "source": [
        "from google.colab import drive\n",
        "drive.mount('/content/gdrive')"
      ],
      "metadata": {
        "colab": {
          "base_uri": "https://localhost:8080/"
        },
        "id": "Aev7CO8z4HVm",
        "outputId": "051ea66a-a940-4f10-bdfa-e4bc664ca105"
      },
      "execution_count": 5,
      "outputs": [
        {
          "output_type": "stream",
          "name": "stdout",
          "text": [
            "Mounted at /content/gdrive\n"
          ]
        }
      ]
    },
    {
      "cell_type": "code",
      "source": [
        "%cd /content/gdrive/My\\ Drive/"
      ],
      "metadata": {
        "colab": {
          "base_uri": "https://localhost:8080/"
        },
        "id": "S7Mw6OLnRz3C",
        "outputId": "42770074-844c-4513-b7b7-524674770509"
      },
      "execution_count": 6,
      "outputs": [
        {
          "output_type": "stream",
          "name": "stdout",
          "text": [
            "/content/gdrive/My Drive\n"
          ]
        }
      ]
    },
    {
      "cell_type": "code",
      "source": [
        "data = pd.read_excel('./마이크로바이옴_논문_최종데이터_수정_20230222.xlsx')"
      ],
      "metadata": {
        "id": "fUWRwJtpz9yB"
      },
      "execution_count": 7,
      "outputs": []
    },
    {
      "cell_type": "code",
      "source": [
        "data.columns"
      ],
      "metadata": {
        "colab": {
          "base_uri": "https://localhost:8080/"
        },
        "id": "F5V9KDyUQxax",
        "outputId": "8e53838c-29b0-45c3-978d-2f6e0822be4d"
      },
      "execution_count": 8,
      "outputs": [
        {
          "output_type": "execute_result",
          "data": {
            "text/plain": [
              "Index(['Unnamed: 0.1', 'Unnamed: 0', 'Title', 'trans_title', 'Author(s)',\n",
              "       'Date', 'Keywords Plus', 'trans_keywords', 'Publication Year',\n",
              "       'Full Author Name(s)', 'Organization', 'Abstract', 'trans_abstract',\n",
              "       'Linked Author Names and Addresses', 'ISSN', 'Document Type',\n",
              "       'Times Cited', 'Standardized Subject Category', 'Country',\n",
              "       'Funding Acknowledgement Details', 'Funding Text',\n",
              "       'Organization Address', 'Subject Category', 'trans_Subject Category',\n",
              "       '과제명_new', '연구내용_new', 'keyword_sum', '질병', '신체부위', '대상', '1.기반',\n",
              "       '2. 탐색연구(인과, 상호작용, 연관성, 변화 등)', '3. 기전규명', '4. 후보물질발굴/치료법',\n",
              "       '5. 비임상/전임상', '6.임상', '7.바이오마커', '식품 등 소재(제거예정)', '노이즈(노이즈=0, 정상=1)',\n",
              "       '기타', 'cleaned_title', 'cleaned_abs', 'disease', 'body_parts', '미생물',\n",
              "       'Organ_Country'],\n",
              "      dtype='object')"
            ]
          },
          "metadata": {},
          "execution_count": 8
        }
      ]
    },
    {
      "cell_type": "code",
      "source": [
        "data['Abstract'].isnull().sum()"
      ],
      "metadata": {
        "colab": {
          "base_uri": "https://localhost:8080/"
        },
        "id": "GW5esvukSZ3G",
        "outputId": "58ac405a-5718-4513-a907-bc7bec32c889"
      },
      "execution_count": 11,
      "outputs": [
        {
          "output_type": "execute_result",
          "data": {
            "text/plain": [
              "8312"
            ]
          },
          "metadata": {},
          "execution_count": 11
        }
      ]
    },
    {
      "cell_type": "code",
      "source": [
        "print(data.shape)\n",
        "data = data.dropna(subset='Abstract')\n",
        "print(data.shape)"
      ],
      "metadata": {
        "colab": {
          "base_uri": "https://localhost:8080/"
        },
        "id": "v566SkoGSeMF",
        "outputId": "63bb80a3-da75-4405-8b50-1770e59f23b1"
      },
      "execution_count": 12,
      "outputs": [
        {
          "output_type": "stream",
          "name": "stdout",
          "text": [
            "(69070, 46)\n",
            "(60758, 46)\n"
          ]
        }
      ]
    },
    {
      "cell_type": "code",
      "source": [
        "# 노이즈가 아닌 것만 선택\n",
        "data = data[data['노이즈(노이즈=0, 정상=1)'] == 1]\n",
        "print(data.shape)"
      ],
      "metadata": {
        "colab": {
          "base_uri": "https://localhost:8080/"
        },
        "id": "YLCXOZ7TS5oo",
        "outputId": "01b560a2-e33b-4a64-8ba9-1f4f23a0c584"
      },
      "execution_count": 14,
      "outputs": [
        {
          "output_type": "stream",
          "name": "stdout",
          "text": [
            "(39847, 46)\n"
          ]
        }
      ]
    },
    {
      "cell_type": "code",
      "source": [
        "data = data.reset_index()"
      ],
      "metadata": {
        "id": "ES7po19vVGiX"
      },
      "execution_count": 15,
      "outputs": []
    },
    {
      "cell_type": "markdown",
      "source": [
        "### 2. 훈련데이터 전처리"
      ],
      "metadata": {
        "id": "a_I_haeJUGvX"
      }
    },
    {
      "cell_type": "code",
      "source": [
        "import nltk\n",
        "nltk.download('punkt')"
      ],
      "metadata": {
        "colab": {
          "base_uri": "https://localhost:8080/"
        },
        "id": "1D-ONM0nV5dA",
        "outputId": "32c7fc4c-fe71-434c-a010-5738c769ebe4"
      },
      "execution_count": 18,
      "outputs": [
        {
          "output_type": "stream",
          "name": "stderr",
          "text": [
            "[nltk_data] Downloading package punkt to /root/nltk_data...\n",
            "[nltk_data]   Unzipping tokenizers/punkt.zip.\n"
          ]
        },
        {
          "output_type": "execute_result",
          "data": {
            "text/plain": [
              "True"
            ]
          },
          "metadata": {},
          "execution_count": 18
        }
      ]
    },
    {
      "cell_type": "code",
      "source": [
        "# 각 문장에 대해 구두점을 제거하고 대문자를 소문자로 변환\n",
        "normalized_text = []\n",
        "for string in data['Abstract'].tolist():\n",
        "  tokens = re.sub(r\"[^a-z0-9]+\", \" \", string.lower())\n",
        "  normalized_text.append(tokens)"
      ],
      "metadata": {
        "id": "ctcdQEOiTKTa"
      },
      "execution_count": 43,
      "outputs": []
    },
    {
      "cell_type": "code",
      "source": [
        "data['cleaned'] = normalized_text"
      ],
      "metadata": {
        "id": "0bVQKQJTXk0P"
      },
      "execution_count": 45,
      "outputs": []
    },
    {
      "cell_type": "code",
      "source": [
        "from gensim.models.doc2vec import TaggedDocument\n",
        "from tqdm import tqdm"
      ],
      "metadata": {
        "id": "MA_KTvC5j8Qd"
      },
      "execution_count": 47,
      "outputs": []
    },
    {
      "cell_type": "code",
      "source": [
        "tagged_corpus_list = []\n",
        "for index, row in tqdm(data.iterrows(), total=len(data)):\n",
        "  text = row['Abstract']\n",
        "  tag = row['Title']\n",
        "  tagged_corpus_list.append(TaggedDocument(tags=[tag], words=word_tokenize(text)))"
      ],
      "metadata": {
        "colab": {
          "base_uri": "https://localhost:8080/"
        },
        "id": "agx0d0HOkPCk",
        "outputId": "dab10fbb-20ad-4ab6-b735-12dfe2d508a4"
      },
      "execution_count": 49,
      "outputs": [
        {
          "output_type": "stream",
          "name": "stderr",
          "text": [
            "100%|██████████| 39847/39847 [01:28<00:00, 451.28it/s]\n"
          ]
        }
      ]
    },
    {
      "cell_type": "code",
      "source": [
        "len(tagged_corpus_list)"
      ],
      "metadata": {
        "colab": {
          "base_uri": "https://localhost:8080/"
        },
        "id": "azAqRmOqmXAz",
        "outputId": "c4d01846-0aa9-4436-f1b5-81bd1cc97929"
      },
      "execution_count": 50,
      "outputs": [
        {
          "output_type": "execute_result",
          "data": {
            "text/plain": [
              "39847"
            ]
          },
          "metadata": {},
          "execution_count": 50
        }
      ]
    },
    {
      "cell_type": "code",
      "source": [
        "tagged_corpus_list[0]"
      ],
      "metadata": {
        "colab": {
          "base_uri": "https://localhost:8080/"
        },
        "id": "XGyg8OCwmYtk",
        "outputId": "140e3e34-a667-443c-a5e2-18c30b23d39c"
      },
      "execution_count": 51,
      "outputs": [
        {
          "output_type": "execute_result",
          "data": {
            "text/plain": [
              "TaggedDocument(words=['Purpose', 'of', 'Review', 'Resident', 'microbial', 'communities', 'likely', 'modify', 'risk', 'for', 'allergic', 'disorders', ',', 'including', 'food', 'allergy', '.', 'We', 'review', 'epidemiologic', 'studies', 'linking', 'microbial', 'exposures', 'to', 'food', 'allergy', 'risk', 'and', 'discuss', 'the', 'mechanisms', 'by', 'which', 'the', 'microbiome', 'may', 'modulate', 'oral', 'tolerance', '.', 'We', 'additionally', 'address', 'ongoing', 'translational', 'efforts', 'in', 'human', 'microbiome', 'studies', '.', 'Recent', 'Findings', 'Epidemiologic', 'studies', 'and', 'murine', 'models', 'support', 'that', 'altered', 'microbial', 'exposures', 'and', 'colonization', 'in', 'early', 'life', 'modify', 'food', 'allergy', 'risk', '.', 'Differential', 'microbiota', 'confer', 'protection', 'or', 'susceptibility', 'to', 'food', 'allergy', 'by', 'modulating', 'the', 'regulatory', 'tone', 'of', 'the', 'mucosal', 'immune', 'system', '.', 'Recent', 'efforts', 'are', 'focused', 'on', 'the', 'identification', 'of', 'bacterial', 'strains', 'necessary', 'for', 'oral', 'tolerance', 'in', 'human', 'and', 'microbial-based', 'clinical', 'trials', '.', 'Summary', 'Early', 'childhood', 'appears', 'to', 'be', 'critical', 'for', 'the', 'colonization', 'of', 'a', 'diverse', 'microbiota', 'necessary', 'for', 'the', 'induction', 'and', 'maintenance', 'of', 'oral', 'tolerance', '.', 'Identification', 'and', 'functional', 'evaluation', 'of', 'protective', 'commensal', 'microbes', 'will', 'inform', 'strategies', 'for', 'the', 'prevention', 'and', 'treatment', 'of', 'food', 'allergy', '.'], tags=['Role of the Microbiome in Food Allergy'])"
            ]
          },
          "metadata": {},
          "execution_count": 51
        }
      ]
    },
    {
      "cell_type": "markdown",
      "source": [
        "### 3. Doc2Vec 학습 및 테스트"
      ],
      "metadata": {
        "id": "inE17F1_mmfD"
      }
    },
    {
      "cell_type": "code",
      "source": [
        "from gensim.models import doc2vec"
      ],
      "metadata": {
        "id": "OS3LlxvKmdl2"
      },
      "execution_count": 52,
      "outputs": []
    },
    {
      "cell_type": "code",
      "source": [
        "model = doc2vec.Doc2Vec(vector_size=300, alpha=0.025, min_alpha=0.025, workers=8, window=8)\n",
        "\n",
        "# vocabulary 빌드\n",
        "model.build_vocab(tagged_corpus_list)\n",
        "print(f\"Tag size: {len(model.docvecs.doctags.keys())}\", end=' / ')"
      ],
      "metadata": {
        "colab": {
          "base_uri": "https://localhost:8080/"
        },
        "id": "imo97RJwmvDW",
        "outputId": "dea2b683-f8a2-4f92-9995-9a9ff3cc0dcb"
      },
      "execution_count": 53,
      "outputs": [
        {
          "output_type": "stream",
          "name": "stdout",
          "text": [
            "Tag size: 39802 / "
          ]
        }
      ]
    },
    {
      "cell_type": "code",
      "source": [
        "# 모델 학습\n",
        "model.train(tagged_corpus_list, total_examples=model.corpus_count, epochs=50)\n",
        "model.save('microbiome.doc2vec')"
      ],
      "metadata": {
        "id": "-0asyIWym_1G"
      },
      "execution_count": 55,
      "outputs": []
    },
    {
      "cell_type": "code",
      "source": [
        "data['Title'][0]"
      ],
      "metadata": {
        "colab": {
          "base_uri": "https://localhost:8080/",
          "height": 35
        },
        "id": "D3Q2oP_nt2FG",
        "outputId": "60517570-66fa-4899-c887-b1a295a10ca0"
      },
      "execution_count": 57,
      "outputs": [
        {
          "output_type": "execute_result",
          "data": {
            "text/plain": [
              "'Role of the Microbiome in Food Allergy'"
            ],
            "application/vnd.google.colaboratory.intrinsic+json": {
              "type": "string"
            }
          },
          "metadata": {},
          "execution_count": 57
        }
      ]
    },
    {
      "cell_type": "code",
      "source": [
        "data['Abstract'][0]"
      ],
      "metadata": {
        "colab": {
          "base_uri": "https://localhost:8080/",
          "height": 182
        },
        "id": "ZMIb6R5Ct7EV",
        "outputId": "89b1f552-176a-4747-eca5-fab67f05bae4"
      },
      "execution_count": 58,
      "outputs": [
        {
          "output_type": "execute_result",
          "data": {
            "text/plain": [
              "'Purpose of Review Resident microbial communities likely modify risk for allergic disorders, including food allergy. We review epidemiologic studies linking microbial exposures to food allergy risk and discuss the mechanisms by which the microbiome may modulate oral tolerance. We additionally address ongoing translational efforts in human microbiome studies. Recent Findings Epidemiologic studies and murine models support that altered microbial exposures and colonization in early life modify food allergy risk. Differential microbiota confer protection or susceptibility to food allergy by modulating the regulatory tone of the mucosal immune system. Recent efforts are focused on the identification of bacterial strains necessary for oral tolerance in human and microbial-based clinical trials. Summary Early childhood appears to be critical for the colonization of a diverse microbiota necessary for the induction and maintenance of oral tolerance. Identification and functional evaluation of protective commensal microbes will inform strategies for the prevention and treatment of food allergy.'"
            ],
            "application/vnd.google.colaboratory.intrinsic+json": {
              "type": "string"
            }
          },
          "metadata": {},
          "execution_count": 58
        }
      ]
    },
    {
      "cell_type": "code",
      "source": [
        "# 테스트\n",
        "model.docvecs.most_similar(data['Title'][0], topn=20)"
      ],
      "metadata": {
        "colab": {
          "base_uri": "https://localhost:8080/"
        },
        "id": "nRkzvgUVnTTc",
        "outputId": "c355c0ab-5251-4d9a-f702-ce8ccfcf3680"
      },
      "execution_count": 59,
      "outputs": [
        {
          "output_type": "execute_result",
          "data": {
            "text/plain": [
              "[('FECAL MICROBIOTA TRANSPLANTATION (FMT) FOR IRRITABLE BOWEL SYNDROME (IBS): A SYSTEMATIC REVIEW AND META-ANALYSIS',\n",
              "  0.42192596197128296),\n",
              " ('PREDICTORS OF TREATMENT FAILURE IN FECAL MICROBIOTA TRANSPLANT FOR CLOSTRIDIUM DIFFICILE INFECTION',\n",
              "  0.4217663109302521),\n",
              " ('ORAL AND FECAL MICROBIOME CHARACTERISTICS IN TREATMENT NAIVE PEDIATRIC IBD PATIENTS OVER TIME: A PROSPECTIVE LONGITUDINAL STUDY',\n",
              "  0.4188489019870758),\n",
              " ('ROLE OF TOLL-LIKE RECEPTOR 5 IN THE BRAIN-GUT-MICROBIOTA TRIALOGUE: A NEW PHARMACOLOGICAL TARGET FOR THE TREATMENT OF CHRONIC ABDOMINAL PAIN AND ASSOCIATED COMORBIDITIES',\n",
              "  0.4182617962360382),\n",
              " ('ALTERNATION OF GUT MICROBIOTA IN PATIENT WITH IMMUNE CHECKPOINT INHIBITORS',\n",
              "  0.4169010818004608),\n",
              " ('COLONIC MUCOSAL MICROBIOME IS ASSOCIATED WITH MUCOSAL MICRORNA EXPRESSION IN IRRITABLE BOWEL SYNDROME',\n",
              "  0.4166880249977112),\n",
              " ('IMPACT OF EPITHELIAL BARRIER DISRUPTION ON MUCUS LAYER AND GUT MICROBIOTA IN MICE',\n",
              "  0.4152335524559021),\n",
              " ('DIFFERENCES IN FECAL MICROBIOME OF PARENTERAL NUTRITION (PN) DEPENDENT VS. PN-INDEPENDENT ADULTS WITH SHORT BOWEL SYNDROME',\n",
              "  0.41452035307884216),\n",
              " ('MICROBIOTA PLAYS A KEY ROLE IN FORMATION OF NORMAL INTESTINAL MOTOR PATTERNS',\n",
              "  0.4144390821456909),\n",
              " ('GUT MICROBIOTA DEFINES HOST RESPONSES TO DIETARY FERMENTABLE CARBOHYDRATES IN IBS: THE ROLE OF BACTERIAL HISTAMINE',\n",
              "  0.4135586619377136),\n",
              " ('Spinal Cord Injury and the Gut Microbiome: Mechanisms and Therapies for Bowel Dysfunction',\n",
              "  0.41191741824150085),\n",
              " ('SUBSTANCE P SIGNALING ALTERS MICROBIOTA IN EXPERIMENTAL COLITIS',\n",
              "  0.41111865639686584),\n",
              " ('INPATIENT MANAGEMENT OF SEVERE CLOSTRIDIUM INFECTION USING FECAL MICROBIOTA TRANSPLANT VIA RETENTION ENEMA',\n",
              "  0.4106810688972473),\n",
              " (\"SHIFTS IN THE MICROBIOME ASSOCIATED WITH BARRETT'S ESOPHAGUS AND PROGRESSION TO DYSPLASIA AND ADENOCARCINOMA\",\n",
              "  0.4105404019355774),\n",
              " ('TREATMENT RESPONSE TO USTEKINUMAB AND VEDOLIZUMAB IN INFLAMMATORY BOWEL DISEASE: THE PREDICTIVE ROLE OF GUT MICROBIOTA',\n",
              "  0.40973344445228577),\n",
              " ('GAVAGE OF FECAL MICROBIOTA FROM TMAO PRODUCER CHARACTERIZED BY MODIFIED CARNITINE CHALLENGE TEST REPRODUCES THE TMAO FORMATION PHENOTYPE IN GERM FREE MICE',\n",
              "  0.40965092182159424),\n",
              " ('A RANDOMIZED, CONTROLLED, SINGLE-BLIND, CROSS-OVER STUDY ASSESSING THE EFFECT OF GREEN KIWIFRUIT ON DIGESTIVE FUNCTIONS AND MICROBIOTA IN CONSTIPATED PATIENTS',\n",
              "  0.409434050321579),\n",
              " ('GUT MICROBIOME FUNCTION PREDICTS RESPONSE TO ANTI-INTEGRIN BIOLOGIC THERAPY IN INFLAMMATORY BOWEL DISEASES',\n",
              "  0.4089379906654358),\n",
              " ('PATTERN OF HYDROGEN AND METHANE PRODUCTION BY GUT MICROBIOME IN NON-ALCOHOLIC DISEASE (NAFLD): A LARGE-SCALE MATCHED CASE-CONTROL STUDY',\n",
              "  0.40889543294906616),\n",
              " ('RENAL DYSFUNCTION IS ASSOCIATED WITH GUT MICROBIOTA CHANGES IN CIRRHOSIS',\n",
              "  0.4087897539138794)]"
            ]
          },
          "metadata": {},
          "execution_count": 59
        }
      ]
    },
    {
      "cell_type": "markdown",
      "source": [
        "### 4. 클러스터링"
      ],
      "metadata": {
        "id": "LO9tXfH0ui5O"
      }
    },
    {
      "cell_type": "code",
      "source": [
        "from sklearn.cluster import KMeans"
      ],
      "metadata": {
        "id": "a7tUckpytuV5"
      },
      "execution_count": 72,
      "outputs": []
    },
    {
      "cell_type": "code",
      "source": [
        "cluster_dict = {i:[] for i in range(0, 8)}\n",
        "cluster_dict_title = {i:[] for i in range(0, 8)}"
      ],
      "metadata": {
        "id": "X59ikdmburBC"
      },
      "execution_count": 73,
      "outputs": []
    },
    {
      "cell_type": "code",
      "source": [
        "clustering_method = KMeans(n_clusters=8, n_init=1, init='k-means++', random_state=0)"
      ],
      "metadata": {
        "id": "_HJUeoXQuvb6"
      },
      "execution_count": 74,
      "outputs": []
    },
    {
      "cell_type": "code",
      "source": [
        "X = model.docvecs.vectors_docs\n",
        "clustering_method.fit(X)"
      ],
      "metadata": {
        "colab": {
          "base_uri": "https://localhost:8080/",
          "height": 75
        },
        "id": "hOje2Rj3uxxb",
        "outputId": "9f2e7225-5c62-49ba-ec6c-fae779ea6625"
      },
      "execution_count": 75,
      "outputs": [
        {
          "output_type": "execute_result",
          "data": {
            "text/plain": [
              "KMeans(n_init=1, random_state=0)"
            ],
            "text/html": [
              "<style>#sk-container-id-3 {color: black;background-color: white;}#sk-container-id-3 pre{padding: 0;}#sk-container-id-3 div.sk-toggleable {background-color: white;}#sk-container-id-3 label.sk-toggleable__label {cursor: pointer;display: block;width: 100%;margin-bottom: 0;padding: 0.3em;box-sizing: border-box;text-align: center;}#sk-container-id-3 label.sk-toggleable__label-arrow:before {content: \"▸\";float: left;margin-right: 0.25em;color: #696969;}#sk-container-id-3 label.sk-toggleable__label-arrow:hover:before {color: black;}#sk-container-id-3 div.sk-estimator:hover label.sk-toggleable__label-arrow:before {color: black;}#sk-container-id-3 div.sk-toggleable__content {max-height: 0;max-width: 0;overflow: hidden;text-align: left;background-color: #f0f8ff;}#sk-container-id-3 div.sk-toggleable__content pre {margin: 0.2em;color: black;border-radius: 0.25em;background-color: #f0f8ff;}#sk-container-id-3 input.sk-toggleable__control:checked~div.sk-toggleable__content {max-height: 200px;max-width: 100%;overflow: auto;}#sk-container-id-3 input.sk-toggleable__control:checked~label.sk-toggleable__label-arrow:before {content: \"▾\";}#sk-container-id-3 div.sk-estimator input.sk-toggleable__control:checked~label.sk-toggleable__label {background-color: #d4ebff;}#sk-container-id-3 div.sk-label input.sk-toggleable__control:checked~label.sk-toggleable__label {background-color: #d4ebff;}#sk-container-id-3 input.sk-hidden--visually {border: 0;clip: rect(1px 1px 1px 1px);clip: rect(1px, 1px, 1px, 1px);height: 1px;margin: -1px;overflow: hidden;padding: 0;position: absolute;width: 1px;}#sk-container-id-3 div.sk-estimator {font-family: monospace;background-color: #f0f8ff;border: 1px dotted black;border-radius: 0.25em;box-sizing: border-box;margin-bottom: 0.5em;}#sk-container-id-3 div.sk-estimator:hover {background-color: #d4ebff;}#sk-container-id-3 div.sk-parallel-item::after {content: \"\";width: 100%;border-bottom: 1px solid gray;flex-grow: 1;}#sk-container-id-3 div.sk-label:hover label.sk-toggleable__label {background-color: #d4ebff;}#sk-container-id-3 div.sk-serial::before {content: \"\";position: absolute;border-left: 1px solid gray;box-sizing: border-box;top: 0;bottom: 0;left: 50%;z-index: 0;}#sk-container-id-3 div.sk-serial {display: flex;flex-direction: column;align-items: center;background-color: white;padding-right: 0.2em;padding-left: 0.2em;position: relative;}#sk-container-id-3 div.sk-item {position: relative;z-index: 1;}#sk-container-id-3 div.sk-parallel {display: flex;align-items: stretch;justify-content: center;background-color: white;position: relative;}#sk-container-id-3 div.sk-item::before, #sk-container-id-3 div.sk-parallel-item::before {content: \"\";position: absolute;border-left: 1px solid gray;box-sizing: border-box;top: 0;bottom: 0;left: 50%;z-index: -1;}#sk-container-id-3 div.sk-parallel-item {display: flex;flex-direction: column;z-index: 1;position: relative;background-color: white;}#sk-container-id-3 div.sk-parallel-item:first-child::after {align-self: flex-end;width: 50%;}#sk-container-id-3 div.sk-parallel-item:last-child::after {align-self: flex-start;width: 50%;}#sk-container-id-3 div.sk-parallel-item:only-child::after {width: 0;}#sk-container-id-3 div.sk-dashed-wrapped {border: 1px dashed gray;margin: 0 0.4em 0.5em 0.4em;box-sizing: border-box;padding-bottom: 0.4em;background-color: white;}#sk-container-id-3 div.sk-label label {font-family: monospace;font-weight: bold;display: inline-block;line-height: 1.2em;}#sk-container-id-3 div.sk-label-container {text-align: center;}#sk-container-id-3 div.sk-container {/* jupyter's `normalize.less` sets `[hidden] { display: none; }` but bootstrap.min.css set `[hidden] { display: none !important; }` so we also need the `!important` here to be able to override the default hidden behavior on the sphinx rendered scikit-learn.org. See: https://github.com/scikit-learn/scikit-learn/issues/21755 */display: inline-block !important;position: relative;}#sk-container-id-3 div.sk-text-repr-fallback {display: none;}</style><div id=\"sk-container-id-3\" class=\"sk-top-container\"><div class=\"sk-text-repr-fallback\"><pre>KMeans(n_init=1, random_state=0)</pre><b>In a Jupyter environment, please rerun this cell to show the HTML representation or trust the notebook. <br />On GitHub, the HTML representation is unable to render, please try loading this page with nbviewer.org.</b></div><div class=\"sk-container\" hidden><div class=\"sk-item\"><div class=\"sk-estimator sk-toggleable\"><input class=\"sk-toggleable__control sk-hidden--visually\" id=\"sk-estimator-id-3\" type=\"checkbox\" checked><label for=\"sk-estimator-id-3\" class=\"sk-toggleable__label sk-toggleable__label-arrow\">KMeans</label><div class=\"sk-toggleable__content\"><pre>KMeans(n_init=1, random_state=0)</pre></div></div></div></div></div>"
            ]
          },
          "metadata": {},
          "execution_count": 75
        }
      ]
    },
    {
      "cell_type": "code",
      "source": [
        "clustering_method.labels_"
      ],
      "metadata": {
        "colab": {
          "base_uri": "https://localhost:8080/"
        },
        "id": "0Hg6MmLNwnbm",
        "outputId": "af7f4e8f-b67e-4261-a7b8-11f9d208ff5e"
      },
      "execution_count": 76,
      "outputs": [
        {
          "output_type": "execute_result",
          "data": {
            "text/plain": [
              "array([7, 7, 7, ..., 7, 7, 7], dtype=int32)"
            ]
          },
          "metadata": {},
          "execution_count": 76
        }
      ]
    },
    {
      "cell_type": "code",
      "source": [
        "for text_tag, label in zip(tagged_corpus_list, clustering_method.labels_):\n",
        "  text, tag = text_tag\n",
        "  cluster_dict[label].append(text)\n",
        "  cluster_dict_title[label].append(tag)"
      ],
      "metadata": {
        "id": "x1nrIswuu56I"
      },
      "execution_count": 78,
      "outputs": []
    },
    {
      "cell_type": "code",
      "source": [
        "for i in range(8):\n",
        "  print(f\"label {i} size: {len(cluster_dict_title[i])}\")"
      ],
      "metadata": {
        "colab": {
          "base_uri": "https://localhost:8080/"
        },
        "id": "ERb_Ei94vSvk",
        "outputId": "5a9c0067-d355-4758-e5a7-df840b4e402b"
      },
      "execution_count": 79,
      "outputs": [
        {
          "output_type": "stream",
          "name": "stdout",
          "text": [
            "label 0 size: 1\n",
            "label 1 size: 1\n",
            "label 2 size: 1\n",
            "label 3 size: 1\n",
            "label 4 size: 1\n",
            "label 5 size: 1\n",
            "label 6 size: 1\n",
            "label 7 size: 39795\n"
          ]
        }
      ]
    },
    {
      "cell_type": "markdown",
      "source": [
        "제대로 분류가 안됨"
      ],
      "metadata": {
        "id": "5_rjexd3w2an"
      }
    },
    {
      "cell_type": "code",
      "source": [
        "cluster_dict_title[0]"
      ],
      "metadata": {
        "colab": {
          "base_uri": "https://localhost:8080/"
        },
        "id": "OfXqy1z0vWAS",
        "outputId": "bb5598f2-1f6a-47cd-f318-7eb7c329fe87"
      },
      "execution_count": 81,
      "outputs": [
        {
          "output_type": "execute_result",
          "data": {
            "text/plain": [
              "[[\"The regulation effect of EGCG3''Me phospholipid complex on gut flora of a high-fat diet-induced obesity mouse model\"]]"
            ]
          },
          "metadata": {},
          "execution_count": 81
        }
      ]
    },
    {
      "cell_type": "code",
      "source": [
        "cluster_dict_title[1]"
      ],
      "metadata": {
        "colab": {
          "base_uri": "https://localhost:8080/"
        },
        "id": "wVxLeFadxDop",
        "outputId": "962c2bd7-118a-4f33-f1bd-ae9e6e8a2684"
      },
      "execution_count": 82,
      "outputs": [
        {
          "output_type": "execute_result",
          "data": {
            "text/plain": [
              "[['The Interaction Between the Microbiome and Tumors']]"
            ]
          },
          "metadata": {},
          "execution_count": 82
        }
      ]
    },
    {
      "cell_type": "code",
      "source": [],
      "metadata": {
        "id": "gPWl6eJXxIoa"
      },
      "execution_count": null,
      "outputs": []
    }
  ]
}