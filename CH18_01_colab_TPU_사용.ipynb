{
  "nbformat": 4,
  "nbformat_minor": 0,
  "metadata": {
    "colab": {
      "provenance": [],
      "authorship_tag": "ABX9TyNNMji7g4oEHU9seRO2iOSF",
      "include_colab_link": true
    },
    "kernelspec": {
      "name": "python3",
      "display_name": "Python 3"
    },
    "language_info": {
      "name": "python"
    },
    "accelerator": "TPU",
    "gpuClass": "standard"
  },
  "cells": [
    {
      "cell_type": "markdown",
      "metadata": {
        "id": "view-in-github",
        "colab_type": "text"
      },
      "source": [
        "<a href=\"https://colab.research.google.com/github/tada20001/NLP_2023/blob/main/CH18_01_colab_TPU_%EC%82%AC%EC%9A%A9.ipynb\" target=\"_parent\"><img src=\"https://colab.research.google.com/assets/colab-badge.svg\" alt=\"Open In Colab\"/></a>"
      ]
    },
    {
      "cell_type": "markdown",
      "source": [
        "### 1. 코랩(Colab)에서 TPU 선택\n",
        "\n",
        "### 2. TPU 초기화\n",
        "-----------------\n",
        "딥러닝 모델을 정의하기 전에 아래의 설정을 미리 해주어야 하므로 아래의 코드는 초반부에 실행해 줘야 함"
      ],
      "metadata": {
        "id": "Gl-yCKImN4Kz"
      }
    },
    {
      "cell_type": "code",
      "execution_count": 2,
      "metadata": {
        "colab": {
          "base_uri": "https://localhost:8080/"
        },
        "id": "cpd_HPZFL7Gc",
        "outputId": "cd24fc01-b5ca-44ea-d6c4-dde1e22b346c"
      },
      "outputs": [
        {
          "output_type": "execute_result",
          "data": {
            "text/plain": [
              "<tensorflow.python.tpu.topology.Topology at 0x7faa3dd65dc0>"
            ]
          },
          "metadata": {},
          "execution_count": 2
        }
      ],
      "source": [
        "import tensorflow as tf\n",
        "import os\n",
        "\n",
        "resolver = tf.distribute.cluster_resolver.TPUClusterResolver(tpu='grpc://' + os.environ['COLAB_TPU_ADDR'])\n",
        "\n",
        "\n",
        "tf.config.experimental_connect_to_cluster(resolver)\n",
        "tf.tpu.experimental.initialize_tpu_system(resolver)"
      ]
    },
    {
      "cell_type": "markdown",
      "source": [
        "### 3. TPU Strategy 셋팅\n",
        "--------------------------\n",
        "tf.distribute.Strategy는 훈련을 여러 GPU 또는 장비, TPU로 나누어 처리하기 위한 텐서플로 API임. 이 API를 사용하면 기존의 모델이나 훈련코드를 분산처리할 수 있음. TPU 사용을 위해서도 Strategy를 셋팅해 줌"
      ],
      "metadata": {
        "id": "G_AKDVcyQdjc"
      }
    },
    {
      "cell_type": "code",
      "source": [
        "strategy = tf.distribute.TPUStrategy(resolver)"
      ],
      "metadata": {
        "id": "twGATw0XOrno"
      },
      "execution_count": 3,
      "outputs": []
    },
    {
      "cell_type": "markdown",
      "source": [
        "### 4. 딥러닝 모델의 컴파일\n",
        "------------------------\n",
        "딥러닝 모델을 컴파일 할때도 추가적인 코드가 필요함. 모델의 컴파일은 strategy.scope 내에서 이루어져야 함. 이는 모델의 층을 쌓는 create_model() 와 같은 함수를 만들어 strategy.scope 내에서 해당함수를 호출하여 모델을 컴파일하는 방식으로 할 수 있음. 예를 들어....\n",
        "\n",
        "\n",
        "다음과 같이 모델의 층을 쌓는 create_model()라는 함수를 만듦"
      ],
      "metadata": {
        "id": "yfb_gQerQ9Iu"
      }
    },
    {
      "cell_type": "code",
      "source": [
        "def create_model():\n",
        "  return tf.keras.Sequential([\n",
        "      tf.keras.layers.Conv2D(256, 3, activation='relu', input_shape=(28, 28, 1)),\n",
        "      tf.keras.layers.Conv2D(256, 3, activation='relu'),\n",
        "      tf.keras.layers.Flatten(),\n",
        "      tf.keras.layers.Dense(256, activation='relu'),\n",
        "      tf.keras.layers.Dense(128, activation='relu'),\n",
        "      tf.keras.layers.Dense(10)])"
      ],
      "metadata": {
        "id": "vEVyDrdHQ6iQ"
      },
      "execution_count": 4,
      "outputs": []
    },
    {
      "cell_type": "code",
      "source": [
        "with strategy.scope():\n",
        "  model = create_model()\n",
        "  model.compile(optimizer='adam', \n",
        "                loss=tf.keras.losses.SparseCategoricalCrossentropy(from_logits=True), \n",
        "                metrics=['sparse_categorical_accuracy'])"
      ],
      "metadata": {
        "id": "txBdpmCoSak6"
      },
      "execution_count": 5,
      "outputs": []
    },
    {
      "cell_type": "markdown",
      "source": [
        "이 모델을 fit() 하게 되면 해당 모델은 TPU를 사용하여 학습하게 됨. 위의 코드를 모두 실행하여 BERT와 커스텀 레이어에 대한 모델의 컴파일을 strategy.scope 내에서 진행함\n",
        "\n",
        "\n",
        "### 5. GPU 실습 코드로 되돌리기\n",
        "---------------------\n",
        "이번 챕터에서 TPU로 실습을 진행한 코드들을 GPU 환경에서 실습하고 싶다면 위에서 모델의 층을 쌓고, 컴파일 하는 코드를 제외한 TPU 진행만을 위한 코드들을 전부 제외하면 됨"
      ],
      "metadata": {
        "id": "YyPTXpcpS2qX"
      }
    },
    {
      "cell_type": "code",
      "source": [],
      "metadata": {
        "id": "k_xGrsclS0oj"
      },
      "execution_count": null,
      "outputs": []
    }
  ]
}