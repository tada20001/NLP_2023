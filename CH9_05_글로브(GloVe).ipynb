{
  "nbformat": 4,
  "nbformat_minor": 0,
  "metadata": {
    "colab": {
      "provenance": [],
      "authorship_tag": "ABX9TyPPrxf+8//PDnye897dQPuS",
      "include_colab_link": true
    },
    "kernelspec": {
      "name": "python3",
      "display_name": "Python 3"
    },
    "language_info": {
      "name": "python"
    },
    "gpuClass": "standard"
  },
  "cells": [
    {
      "cell_type": "markdown",
      "metadata": {
        "id": "view-in-github",
        "colab_type": "text"
      },
      "source": [
        "<a href=\"https://colab.research.google.com/github/tada20001/NLP_2023/blob/main/CH9_05_%EA%B8%80%EB%A1%9C%EB%B8%8C(GloVe).ipynb\" target=\"_parent\"><img src=\"https://colab.research.google.com/assets/colab-badge.svg\" alt=\"Open In Colab\"/></a>"
      ]
    },
    {
      "cell_type": "markdown",
      "source": [],
      "metadata": {
        "id": "9gwR72CgtG7z"
      }
    },
    {
      "cell_type": "markdown",
      "source": [
        "글로브(Global Vectors for Word Representation, GloVe)는 카운트와 예측 모두를 기반으로 하는 방법론으로 2014년 스탠포드 대학에서 개발한 단어 임베딩 방법론임\n",
        "\n",
        "기존의 카운트 기반의 LSA(Latent Semantic Analysis)와 예측기반의 Word2Vec의 단점을 보완하는 목적으로 개발되었으며, 실제로 Word2Vec만큼의 성능을 보임\n",
        "\n",
        "### 1. 기존 방법론에 대한 비판\n",
        "------------------------------\n",
        "LSA는 DTM이나 TF-IDF 행렬과 같이 각 문서에서의 각 단어의 빈도수를 카운트한 행렬이라는 전체적인 통계정보를 입력으로 받아 차원을 축소(Truncated SVD)하여 잠재된 의미를 끌어내는 방법론임\n",
        "\n",
        "반면, Word2Vec은 실제값과 예측값에 대한 오차를 손실함수를 통해 줄여나가며 학습하는 예측 기반의 방법론임\n",
        "\n",
        "LSA는 카운트 기반으로 코퍼스의 전체적인 통계정보를 고려하기는 하지만 단어의미의 유추작업에서는 성능이 떨어짐. Word2Vec은 예측기반으로 단어간 유추 작업에는 LSA보다 뛰어나지만, 임베딩 벡터가 윈도우 크기내에서만 주변단어를 고려하기 때문에 코퍼스의 전체적인 통계정보를 반영하지 못함\n",
        "\n",
        "GloVe는 이러한 기존 방법론의 각각의 한계를 지적하며, LSA의 메커니즘이었던 카운트 기반의 방법과 Word2Vec의 메커니즘이었던 예측 기반의 방법론 모두 사용함\n",
        "\n",
        "\n",
        "### 2. 윈도우 기반 동시 등장 행렬(Window based Co-occurrence Matrix)\n",
        "-----------------------\n",
        "단어의 동시 등장행렬은 행과 열을 전체 단어집합의 단어들로 구성하고, i 단어의 윈도우 크기(window size)내에서 k 단어가 등장한 횟수를 i행 k열에 기재한 행렬을 말함\n",
        "\n",
        "\n",
        "\n",
        "### 3. 동시등장확률(Co-occurrence Probability)\n",
        "------------------------\n",
        "동시등장확률$P(k\\ |\\ i)$은 동시등장행렬로부터 특정 단어 i의 전체 등장횟수를 카운트하고, 특정 단어 i가 등장했을 때 어떤 단어 k가 등장한 횟수를 카운트하여 계산한 조건부 확률임\n",
        "\n",
        "$P(k\\ |\\ i)$에서 i를 중심단어(center word), k를 주변단어(context word)라고 할 때, 동시등장행렬에서 중심단어 i 행의 모든 값을 더한 값을 분포로 하고, i행 k열의 값을 분자로 한 값이라고 불 수 있음\n",
        "\n",
        "\n",
        "동시 등장행렬과 동시등장확률의 이해를 바탕으로 손실함수 설계\n",
        "\n",
        "### 4. 손실함수(Loss Function)\n",
        "-------------------\n",
        "* $X$ : 동시 등장 행렬(Co-occurrence Matrix)\n",
        "* $X_{ij}$ : 중심단어 i가 등장했을때 윈도우 내 주변단어 j가 등장하는 횟수\n",
        "* $X_{i} : \\sum_j X_{ij}$ : 동시등장행렬에서 i행의 값을 모두 더한 값\n",
        "* $P_{ik} : P(k\\ |\\ i) = \\frac{X_{ik}}{X_{i}}$ : 중심단어 i가 등장할 때 윈도우 내 주변단어 k가 등장할 확률\n",
        "  * Ex) P(solid l ice) = 단어 ice가 등장했을 때 단어 solid가 등장할 확률\n",
        "\n",
        "* $\\frac{P_{ik}}{P_{jk}}$ : ${P_{ik}}$를 ${P_{jk}}$로 나눈 값\n",
        "  * Ex) P(solid l ice) / P(solid l steam) = 8.9\n",
        "* $w_{i}$ : 중심단어의 임베딩 벡터\n",
        "* $\\tilde{w_{k}}$ : 주변단어 k의 임베딩 벡터"
      ],
      "metadata": {
        "id": "Y60pmmGztJlC"
      }
    },
    {
      "cell_type": "markdown",
      "source": [
        "GloVe의 개념은 즉, **임베딩된 중심단어와 주변단어 벡터의 내적이 전체 코퍼스의 동시등장확률이 되도록 만드는 것**임\n",
        "\n",
        "$$dot\\ product(w_{i}\\ \\tilde{w_{k}}) \\approx\\ P(k\\ |\\ i) = P_{ik}$$\n",
        "\n",
        "\n",
        "더 정확히는 GloVe는 아래와 같은 관계를 가지도록 임베딩 벡터를 설계함\n",
        "\n",
        "$$dot\\ product(w_{i}\\ \\tilde{w_{k}}) \\approx\\ log\\ P(k\\ |\\ i) = log\\ P_{ik}$$\n",
        "\n",
        "임베딩 벡터를 만들기 위해 손실함수는 첫째, 단어간의 관계를 잘 표현하는 함수여야 함. 이를 위해 $P_{ik} / P_{jk}$를 식에 사용함\n",
        "\n",
        "벡터 $w_{i}, w_{j}, \\tilde{w_{k}}$를 가지고 어떤 함수 F를 수행하면, $P_{ik} / P_{jk}$가 나온다는 초기 식에서 전개됨\n",
        "\n",
        "$$F(w_{i},\\ w_{j},\\ \\tilde{w_{k}}) = \\frac{P_{ik}}{P_{jk}}$$"
      ],
      "metadata": {
        "id": "PxIexpuH5bR9"
      }
    },
    {
      "cell_type": "markdown",
      "source": [
        "아직 이 함수 $F$가 어떤 식을 가지고 있는지 정해진게 없음\n",
        "\n",
        "함수 $F$는 두 단어 사이의 동시등장확률의 크기 관계비(ratio) 정보를 벡터 공간에 인코딩하는 것이 목적임\n",
        "\n",
        "이를 위해 GloVe 연구팀은 $w_i$와 $w_j$라는 두 벡터의 차이를 함수 $F$의 입력으로 사용하는 것을 제안함\n",
        "\n",
        "$$F(w_{i} -\\ w_{j},\\ \\tilde{w_{k}}) = \\frac{P_{ik}}{P_{jk}}$$\n",
        "\n",
        "그런데 우변은 스칼라값이고 좌변은 벡터값임. 이를 맞추기 위해 함수 F의 두 입력에 내적을 수행함\n",
        "$$F((w_{i} -\\ w_{j})^{T} \\tilde{w_{k}}) = \\frac{P_{ik}}{P_{jk}}$$\n",
        "\n",
        "정리하면, 선형공간(Linear space)에서 단어의 의미 관계를 표현하기 위해 뺄셈과 내적을 택함\n",
        "\n",
        "여기서 함수 $F$가 만족해야 하는 필수조건으로, 중심단어 $w$와 주변단어 $\\tilde{w}$라는 선택기준은 실제로는 무작위 선택이므로 이 둘의 관계는 자유롭게 치환될 수 있어야 함. 이것이 성립되기 위해서는 함수 $F$가 실수의 덧셈과 양수의 곱셈에 대해 준동형(Homomorphism)을 만족하도록 함\n",
        "\n",
        "즉, $a$와 $b$에 대해 함수 $F$가 $F(a + b)$가 $F(a)F(b)$와 같도록 만족시켜야 함\n",
        "\n",
        "식으로 나타내면 아래와 같음\n",
        "$$F(a+b) = F(a)F(b),\\ \\forall a,\\ b\\in \\mathbb{R}$$"
      ],
      "metadata": {
        "id": "dhSXQh_sAeNG"
      }
    },
    {
      "cell_type": "markdown",
      "source": [
        "이 준동형식을 현재 전개하던 GloVe 식에 적용할 수 있도록 조금씩 바꿔볼 것임. 전개하던 GloVe 식에 따르면, 함수 $F$는 결과값으로 스칼라 값 $\\frac{P_{ik}}{P_{jk}}$이 나와야 함\n",
        "\n",
        "준동형식에서 $a$와 $b$가 각각 벡터값이라면 함수 $F$의 결과값으로는 스칼라 값이 나올 수 없지만, $a$와 $b$가 각각 사실 두 벡터의 내적값이라고 하면 결과값으로 스칼라 값이 나올 수 있음\n",
        "\n",
        "그러므로 위의 준동형식을 아래와 같이 바꿀 수 있음. 여기서 $v_{1},\\ v_{2},\\ v_{3},\\ v_{4}$는 벡터값으로 아래의 $V$는 벡터를 의미함\n",
        "\n",
        "$$F(v_{1}^{T}v_{2} + v_{3}^{T}v_{4}) = F(v_{1}^{T}v_{2})F(v_{3}^{T}v_{4}),\\ \\forall v_{1},\\ v_{2},\\ v_{3},\\ v_{4}\\in V$$"
      ],
      "metadata": {
        "id": "Gx1w_klHD4ek"
      }
    },
    {
      "cell_type": "markdown",
      "source": [
        "그런데 앞서 작성한 GloVe 식에서는 $w_{i}$와 $w_{j}$라는 두 벡터의 차이를 함수 $F$의 입력으로 받음. GloVe 식에 바로 적용하기 위해 준동형 식을 뺄셈의 준동형식으로 변경함. 그렇게 되면 곱셈도 나눗셈으로 바뀜\n",
        "\n",
        "$$F(v_{1}^{T}v_{2} - v_{3}^{T}v_{4}) = \\frac{F(v_{1}^{T}v_{2})}{F(v_{3}^{T}v_{4})},\\ \\forall v_{1},\\ v_{2},\\ v_{3},\\ v_{4}\\in V$$\n",
        "\n",
        "\n",
        "이 준동형 식을 GloVe 식에 적용해 보면, 우선 함수 $F$의 우변은 다음과 같이 바뀌어야 함\n",
        "\n",
        "$$F((w_{i} -\\ w_{j})^{T} \\tilde{w_{k}}) = \\frac{F(w_{i}^{T}\\tilde{w_{k}})}{F(w_{j}^{T}\\tilde{w_{k}})}$$\n",
        "\n",
        "그런데 이전의 식에 따르면 우변은 본래 $\\frac{P_{ik}}{P_{jk}}$였으므로, 결과적으로 다음과 같음\n",
        "\n",
        "$$\\frac{P_{ik}}{P_{jk}} = \\frac{F(w_{i}^{T}\\tilde{w_{k}})}{F(w_{j}^{T}\\tilde{w_{k}})}$$\n",
        "\n",
        "$$F(w_{i}^{T}\\tilde{w_{k}}) = P_{ik} = \\frac{X_{ik}}{X_{i}}$$\n",
        "\n",
        "좌변을 풀어쓰면 다음과 같음\n",
        "$$F(w_{i}^{T}\\tilde{w_{k}}\\ -\\ w_{j}^{T}\\tilde{w_{k}}) = \\frac{F(w_{i}^{T}\\tilde{w_{k}})}{F(w_{j}^{T}\\tilde{w_{k}})}$$"
      ],
      "metadata": {
        "id": "llSpMX5aGZub"
      }
    },
    {
      "cell_type": "markdown",
      "source": [
        "이는 뺄셈에 대한 준동형식의 형태와 정확히 일치함. 이를 만족하는 함수 $F$를 찾아야 할 때임. 그리고 이를 정확하게 만족시키는 함수가 있는데 이것이 지수함수임. $F$를 지수함수 $exp$라고 함\n",
        "\n",
        "$$exp(w_{i}^{T}\\tilde{w_{k}}\\ -\\ w_{j}^{T}\\tilde{w_{k}}) = \\frac{exp(w_{i}^{T}\\tilde{w_{k}})}{exp(w_{j}^{T}\\tilde{w_{k}})}$$\n",
        "\n",
        "$$exp(w_{i}^{T}\\tilde{w_{k}}) = P_{ik} = \\frac{X_{ik}}{X_{i}}$$\n",
        "\n",
        "위의 두번째 식으로부터 다음과 같은 식을 얻을 수 있음\n",
        "\n",
        "$$w_{i}^{T}\\tilde{w_{k}} = log\\ P_{ik} = log\\ (\\frac{X_{ik}}{X_{i}}) = log\\ X_{ik} - log\\ X_{i}$$\n",
        "\n",
        "\n",
        "그런데 여기서 상기해야할 것은 앞서 언급했듯이, 사실 \n",
        "$w_{i}$와 $\\tilde{w_{k}}$는 두 값의 위치를 서로 바꾸어도 식이 성립해야 함. $X_{ik}$의 정의를 생각해보면 \n",
        "와도 같음. \n",
        "\n",
        "그런데 이게 성립되려면 위의 식에서 $log\\ X_{i}$\n",
        "항이 걸림돌임임. 이 부분만 없다면 이를 성립시킬 수 있음. 그래서 GloVe 연구팀은 이 $log\\ X_{i}$항을 \n",
        "$w_{i}$에 대한 편향 $b_{i}$라는 상수항으로 대체하기로 함. 같은 이유로 $\\tilde{w_{k}}$에 대한 편향 $\\tilde{b_{k}}$를 추가함.\n",
        "\n",
        "$$w_{i}^{T}\\tilde{w_{k}} + b_{i} + \\tilde{b_{k}} = log\\ X_{ik}$$\n"
      ],
      "metadata": {
        "id": "ufPWWEGwIM1b"
      }
    },
    {
      "cell_type": "markdown",
      "source": [
        "이 식이 손실함수의 핵심이 되는 식임. 우변의 값과의 차이를 최소화하는 방향으로 좌변의 4개의 항은 학습을 통해 값이 바뀌는 변수들이 됨. 즉, 손실함수는 다음과 같이 일반화할 수 있음\n",
        "\n",
        "$$Loss\\ function = \\sum_{m, n=1}^{V}\\ (w_{m}^{T}\\tilde{w_{n}} + b_{m} + \\tilde{b_{n}} - logX_{mn})^{2}$$\n",
        "\n",
        "여기서 $V$는 단어집합의 크기를 의미하나, 아직 최적의 손실함수를 만들려면, $log\\ X_{ik}$에서 $X_{ik}$ 값이 0이 되어야 함. 대안 중 하나는 $log\\ X_{ik}$ 항을 $log\\ (1 + X_{ik})$로 변경하는 것임\n",
        "\n",
        "또한, 동시등장행렬 $X$는 마치 DTM처럼 희소행렬일 가능성이 크기 때문에, GloVe 연구팀은 동시등장행렬에서 동시등장빈도의 값 $X_{ik}$이 굉징히 낮은 경우에는 정보에 거의 도움이 되지 않는다고 판단함. \n",
        "\n",
        "따라서, 이에 대한 가중치를 고려한 방법으로 $X_{ik}$의 값에 영향을 받는 가중치함수 $f(X_{ik})$를 손실함수에 도입하는 것임\n",
        "\n",
        "GloVe에 도입되는 $f(X_{ik})$의 그래프는 다음과 같이 됨\n",
        "\n",
        "\n",
        "\n",
        "![image.png](data:image/png;base64,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)"
      ],
      "metadata": {
        "id": "8Q_52M7kJ9Wi"
      }
    },
    {
      "cell_type": "markdown",
      "source": [
        "$X_{ik}$의 값이 작으면 상대적으로 함수의 값은 작도록 하고, 값이 크면 함수의 값은 상대적으로 크도록 함. 그러나 지나치게 높으면 가중치를 주지 않아 함수의 최대값이 정해져 있음(최대값 = 1)\n",
        "\n",
        "\n",
        "예를 들어 'It is'와 같은 불용어의 동시 등장 빈도수가 높다고 해서 지나친 가중을 받아서는 안 됨. 이 함수의 값을 손실 함수에 곱해주면 가중치의 역할을 할 수 있음.\n",
        "\n",
        "이 함수 $f(x)$의 식은 다음과 같이 정의됨\n",
        "\n",
        "\n",
        "$$f(x) = min(1,\\ (x/x_{max})^{3/4})$$\n",
        "\n",
        "최종적으로 일반화된 손실함수는 다음과 같음\n",
        "\n",
        "$$Loss\\ function = \\sum_{m, n=1}^{V}\\ f(X_{mn})(w_{m}^{T}\\tilde{w_{n}} + b_{m} + \\tilde{b_{n}} - logX_{mn})^{2}$$\n",
        "\n",
        "\n",
        "### 5. GloVe 훈련시키기\n",
        "-----------------"
      ],
      "metadata": {
        "id": "ywWpQogzLfrN"
      }
    },
    {
      "cell_type": "code",
      "execution_count": 1,
      "metadata": {
        "colab": {
          "base_uri": "https://localhost:8080/"
        },
        "id": "tWvPqDzRrFEF",
        "outputId": "dc04d311-2f6d-47cd-e037-b82c97015ea7"
      },
      "outputs": [
        {
          "output_type": "stream",
          "name": "stdout",
          "text": [
            "Looking in indexes: https://pypi.org/simple, https://us-python.pkg.dev/colab-wheels/public/simple/\n",
            "Collecting glove==1.0.0\n",
            "  Downloading glove-1.0.0.tar.gz (3.6 kB)\n",
            "  Preparing metadata (setup.py) ... \u001b[?25l\u001b[?25hdone\n",
            "Requirement already satisfied: cython in /usr/local/lib/python3.9/dist-packages (from glove==1.0.0) (0.29.33)\n",
            "Requirement already satisfied: numpy in /usr/local/lib/python3.9/dist-packages (from glove==1.0.0) (1.22.4)\n",
            "Building wheels for collected packages: glove\n",
            "  Building wheel for glove (setup.py) ... \u001b[?25l\u001b[?25hdone\n",
            "  Created wheel for glove: filename=glove-1.0.0-py3-none-any.whl size=4040 sha256=36df18100dc738ea70e1987d171307ef999513147d70ae6464f82d4aecc8e944\n",
            "  Stored in directory: /root/.cache/pip/wheels/e3/e3/a9/727b9142b682a1ec7fac4870841e08656de714b160082e99e9\n",
            "Successfully built glove\n",
            "Installing collected packages: glove\n",
            "Successfully installed glove-1.0.0\n"
          ]
        }
      ],
      "source": [
        "!pip install glove==1.0.0"
      ]
    },
    {
      "cell_type": "markdown",
      "source": [
        "#### 1) 데이터 로드 및 전처리"
      ],
      "metadata": {
        "id": "Q7nNtbddOIRW"
      }
    },
    {
      "cell_type": "code",
      "source": [
        "import re\n",
        "import urllib.request\n",
        "import zipfile\n",
        "from lxml import etree\n",
        "from nltk.tokenize import word_tokenize, sent_tokenize"
      ],
      "metadata": {
        "id": "IMoPLNYDOj4j"
      },
      "execution_count": 2,
      "outputs": []
    },
    {
      "cell_type": "code",
      "source": [
        "import nltk\n",
        "nltk.download('punkt')"
      ],
      "metadata": {
        "colab": {
          "base_uri": "https://localhost:8080/"
        },
        "id": "a_OSazt_PrLu",
        "outputId": "8a9addc3-8cf5-4245-82f2-6a30bc697f81"
      },
      "execution_count": 3,
      "outputs": [
        {
          "output_type": "stream",
          "name": "stderr",
          "text": [
            "[nltk_data] Downloading package punkt to /root/nltk_data...\n",
            "[nltk_data]   Unzipping tokenizers/punkt.zip.\n"
          ]
        },
        {
          "output_type": "execute_result",
          "data": {
            "text/plain": [
              "True"
            ]
          },
          "metadata": {},
          "execution_count": 3
        }
      ]
    },
    {
      "cell_type": "code",
      "source": [
        "# 데이터 다운로드\n",
        "urllib.request.urlretrieve(\"https://raw.githubusercontent.com/ukairia777/tensorflow-nlp-tutorial/main/09.%20Word%20Embedding/dataset/ted_en-20160408.xml\", filename=\"ted_en-20160408.xml\")"
      ],
      "metadata": {
        "colab": {
          "base_uri": "https://localhost:8080/"
        },
        "id": "AiHsO94lOrer",
        "outputId": "e1d14135-7e7b-49de-e7d4-a85b7b6f368b"
      },
      "execution_count": 4,
      "outputs": [
        {
          "output_type": "execute_result",
          "data": {
            "text/plain": [
              "('ted_en-20160408.xml', <http.client.HTTPMessage at 0x7f16736fd6a0>)"
            ]
          },
          "metadata": {},
          "execution_count": 4
        }
      ]
    },
    {
      "cell_type": "code",
      "source": [
        "targetXML = open('ted_en-20160408.xml', 'r', encoding='UTF8')\n",
        "target_text = etree.parse(targetXML)"
      ],
      "metadata": {
        "id": "T7g0tJ6ZMe_Y"
      },
      "execution_count": 5,
      "outputs": []
    },
    {
      "cell_type": "code",
      "source": [
        "# content 데이터만 가져옴\n",
        "parse_text = '\\n'.join(target_text.xpath('//content/text()'))\n",
        "\n",
        "# (Audio), (Laughter) 등 제거\n",
        "content_text = re.sub(r'\\([^)]*\\)', '', parse_text)\n",
        "\n",
        "# 입력 코퍼스에 대해 NLTK를 이용하여 문장 토큰화 수행\n",
        "sent_text = sent_tokenize(content_text)\n",
        "sent_text[0]"
      ],
      "metadata": {
        "colab": {
          "base_uri": "https://localhost:8080/",
          "height": 35
        },
        "id": "i5ATBRIxOnWd",
        "outputId": "4b857c70-3791-4117-f07d-1518567f2080"
      },
      "execution_count": 6,
      "outputs": [
        {
          "output_type": "execute_result",
          "data": {
            "text/plain": [
              "\"Here are two reasons companies fail: they only do more of the same, or they only do what's new.\""
            ],
            "application/vnd.google.colaboratory.intrinsic+json": {
              "type": "string"
            }
          },
          "metadata": {},
          "execution_count": 6
        }
      ]
    },
    {
      "cell_type": "code",
      "source": [
        "sent_text[1]"
      ],
      "metadata": {
        "colab": {
          "base_uri": "https://localhost:8080/",
          "height": 54
        },
        "id": "jRA_aNL_Peo5",
        "outputId": "7b2e0890-d650-4d4c-b934-f514d6bc246f"
      },
      "execution_count": 7,
      "outputs": [
        {
          "output_type": "execute_result",
          "data": {
            "text/plain": [
              "'To me the real, real solution to quality growth is figuring out the balance between two activities: exploration and exploitation.'"
            ],
            "application/vnd.google.colaboratory.intrinsic+json": {
              "type": "string"
            }
          },
          "metadata": {},
          "execution_count": 7
        }
      ]
    },
    {
      "cell_type": "code",
      "source": [
        "# 각 문장에 대해 구두점을 제거하고 대문자를 소문자로 변환\n",
        "normalized_text = []\n",
        "for string in sent_text:\n",
        "  tokens = re.sub(r'[^a-z0-0]', ' ', string.lower())\n",
        "  normalized_text.append(tokens)"
      ],
      "metadata": {
        "id": "fSwY67G-5FPl"
      },
      "execution_count": 8,
      "outputs": []
    },
    {
      "cell_type": "code",
      "source": [
        "# 각 문장에 대해 NLTK를 이용하여 단어 토큰화 수행\n",
        "result = [word_tokenize(sentence) for sentence in normalized_text]\n",
        "result[0]"
      ],
      "metadata": {
        "colab": {
          "base_uri": "https://localhost:8080/"
        },
        "id": "URtYtm7w5nUi",
        "outputId": "cb6130a2-2461-4ee4-ac06-5f53f94755f3"
      },
      "execution_count": 9,
      "outputs": [
        {
          "output_type": "execute_result",
          "data": {
            "text/plain": [
              "['here',\n",
              " 'are',\n",
              " 'two',\n",
              " 'reasons',\n",
              " 'companies',\n",
              " 'fail',\n",
              " 'they',\n",
              " 'only',\n",
              " 'do',\n",
              " 'more',\n",
              " 'of',\n",
              " 'the',\n",
              " 'same',\n",
              " 'or',\n",
              " 'they',\n",
              " 'only',\n",
              " 'do',\n",
              " 'what',\n",
              " 's',\n",
              " 'new']"
            ]
          },
          "metadata": {},
          "execution_count": 9
        }
      ]
    },
    {
      "cell_type": "code",
      "source": [
        "len(result)"
      ],
      "metadata": {
        "colab": {
          "base_uri": "https://localhost:8080/"
        },
        "id": "QFZvH0qb51bn",
        "outputId": "c41b54a4-48ff-4b87-b3c0-5c5d45dd6332"
      },
      "execution_count": 10,
      "outputs": [
        {
          "output_type": "execute_result",
          "data": {
            "text/plain": [
              "273380"
            ]
          },
          "metadata": {},
          "execution_count": 10
        }
      ]
    },
    {
      "cell_type": "markdown",
      "source": [
        "#### 2) GloVe 훈련시키기"
      ],
      "metadata": {
        "id": "aWCH3qPy6doy"
      }
    },
    {
      "cell_type": "code",
      "source": [
        "!python -m pip install glove-python-binary"
      ],
      "metadata": {
        "colab": {
          "base_uri": "https://localhost:8080/"
        },
        "id": "OGJf41e868OC",
        "outputId": "bf6d9d75-3239-4f7e-9da1-cc83afcd6a22"
      },
      "execution_count": 30,
      "outputs": [
        {
          "output_type": "stream",
          "name": "stdout",
          "text": [
            "Looking in indexes: https://pypi.org/simple, https://us-python.pkg.dev/colab-wheels/public/simple/\n",
            "\u001b[31mERROR: Could not find a version that satisfies the requirement glove-python-binary (from versions: none)\u001b[0m\u001b[31m\n",
            "\u001b[0m\u001b[31mERROR: No matching distribution found for glove-python-binary\u001b[0m\u001b[31m\n",
            "\u001b[0m"
          ]
        }
      ]
    },
    {
      "cell_type": "code",
      "source": [
        "glove_corpus = glove.Glove."
      ],
      "metadata": {
        "colab": {
          "base_uri": "https://localhost:8080/",
          "height": 174
        },
        "id": "wNr0detN6dRK",
        "outputId": "8e359012-8639-45eb-b7ca-64a8f4ee29bd"
      },
      "execution_count": 24,
      "outputs": [
        {
          "output_type": "error",
          "ename": "AttributeError",
          "evalue": "ignored",
          "traceback": [
            "\u001b[0;31m---------------------------------------------------------------------------\u001b[0m",
            "\u001b[0;31mAttributeError\u001b[0m                            Traceback (most recent call last)",
            "\u001b[0;32m<ipython-input-24-b97c2370e953>\u001b[0m in \u001b[0;36m<module>\u001b[0;34m\u001b[0m\n\u001b[0;32m----> 1\u001b[0;31m \u001b[0mglove_corpus\u001b[0m \u001b[0;34m=\u001b[0m \u001b[0mglove\u001b[0m\u001b[0;34m.\u001b[0m\u001b[0mGlove\u001b[0m\u001b[0;34m.\u001b[0m\u001b[0mglove_corpus\u001b[0m\u001b[0;34m\u001b[0m\u001b[0;34m\u001b[0m\u001b[0m\n\u001b[0m",
            "\u001b[0;31mAttributeError\u001b[0m: type object 'Glove' has no attribute 'glove_corpus'"
          ]
        }
      ]
    },
    {
      "cell_type": "code",
      "source": [],
      "metadata": {
        "id": "ummI6LKn6wuR"
      },
      "execution_count": null,
      "outputs": []
    }
  ]
}