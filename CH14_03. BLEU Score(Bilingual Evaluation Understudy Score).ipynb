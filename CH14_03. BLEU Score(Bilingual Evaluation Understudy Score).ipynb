{
 "cells": [
  {
   "cell_type": "markdown",
   "id": "78ff2061",
   "metadata": {},
   "source": [
    "* 언어모델의 성능 측정을 위한 방법 중 하나, 특히 번역성능 측정의 대표적인 방법임"
   ]
  },
  {
   "cell_type": "code",
   "execution_count": 1,
   "id": "422b6c8e",
   "metadata": {},
   "outputs": [],
   "source": [
    "import numpy as np\n",
    "from collections import Counter\n",
    "from nltk import ngrams"
   ]
  },
  {
   "cell_type": "markdown",
   "id": "7bf43839",
   "metadata": {},
   "source": [
    "### 1. BLEU\n",
    "\n",
    "* BLEU는 기계번역 결과와 사람이 직접 번역한 결과가 얼마나 유사한지 비교하여 번역에 대한 성능을 측정하는 방법임\n",
    "* 측정 기준은 n-gram에 기반하며, PPL보다 성능이 좋음\n",
    "\n",
    "-----\n",
    "* BLEU를 이해하기 위해 기계번역 성능평가를 위한 몇가지 직관적인 방법을 제시하고, 문제점을 보완한 방식 순으로 설명\n",
    "\n",
    "\n",
    "#### 1-1. 단어 개수 카운트로 측정하기 (Unigram Precision)\n"
   ]
  },
  {
   "cell_type": "markdown",
   "id": "c957cc47",
   "metadata": {},
   "source": [
    "* 한국어-영어 번역기의 성능을 측정한다고 가정하면, 두개의 기계번역기가 존재하고 두 기계 번역기에 같은 한국어 문장을 입력하여 번역된 영어 문장의 성능을 측정함\n",
    "* 번역된 문장을 각각 candidate 1, candidate 2라고 하면, 이 문장의 성능을 평가하기 위해 정답으로 비교되는 문장이 있어야 함\n",
    "* 세명의 사람에게 한국어를 보고 영작해보라고 하여 세개의 번역문장을 만들어냄. 이 세문장을 각각 Reference 1, 2,3이라고 하자\n",
    "\n",
    "**Example 1**\n",
    "\n",
    "* Ca 1 : It is a guide to action which ensures that the military always obeys the commands of the party.\n",
    "* Ca 2 : It is to insure the troops forever hearing the activity guidebook that party direct.\n",
    "* Ref 1 : It is a guide to action that ensures that the military will forever heed Party commands.\n",
    "* Ref 2 : It is the guiding principle which guarantees the military forces always being under the command of the Party.\n",
    "* Ref 3 : It is the practical guide for the army always to heed the directions of the party."
   ]
  },
  {
   "cell_type": "markdown",
   "id": "62d5e6e8",
   "metadata": {},
   "source": [
    "* 가장 직관적인 성능평가방법은 Ref 1, 2, 3 중 어느 한 문장이라도 등장한 단어의 개수를 Ca에서 세는 것임\n",
    "* 그 후에 Ca의 모든 단어의 카운트 합. 즉, Ca의 총 단어 수로 나눠 주는데, 이 방법을 **유니그램 정밀도(Unigram Precision)**라고 함\n",
    "\n",
    "$\\text{Unigram Precision =}\\frac{\\text{Ref들 중에서 존재하는 Ca의 단어의 수}}{\\text{Ca의 총 단어 수}} = \\frac{\\text{the number of Ca words(unigrams) which occur in any Ref}}{\\text{the total number of words in the Ca}}$"
   ]
  },
  {
   "cell_type": "markdown",
   "id": "cf7fe3d1",
   "metadata": {},
   "source": [
    "위의 계산 방법에 따르면 Ca1과 Ca2의 유니그램 정밀도는 다음 같음\n",
    "\n",
    "$$\\text{Ca1 Unigram Precision =} \\frac{17}{18}$$\n",
    "\n",
    "$$\\text{Ca2 Unigram Precision =} \\frac{8}{14}$$"
   ]
  },
  {
   "cell_type": "markdown",
   "id": "9fe84ae6",
   "metadata": {},
   "source": [
    "#### 1-2. 중복을 제거하여 보정하기 (Modified Unigram Precision)\n",
    "\n",
    "**Example 2**\n",
    "\n",
    "* Candidate : the the the the the the the\n",
    "* Reference1 : the cat is on the mat\n",
    "* Reference2 : there is a cat on the mat\n",
    "\n",
    "----\n",
    "위의 Ca는 the만 7개가 등장한 안좋은 번역이지만, 위의 유니그램으로 평가하면 최고의 성능평가(7/7=1)를 받게 됨. 따라서 유니그램 정밀도를 보정할 필요가 있음\n",
    "\n",
    "이를 보정하기 위해 정밀도의 분자를 계산하기 위해 Ref와 매칭하며 카운트하는 과정에서 Ca의 유니그램이 이미 Ref에서 매칭된 적이 있었는지를 고려해서 평가해야 함\n",
    "\n",
    "$$\\text{Unigram Precision =}\\frac{\\text{Ref들과 Ca를 고려한 새로운 카운트 방법이 필요!}}{\\text{Ca의 총 유니그램 수}}$$"
   ]
  },
  {
   "cell_type": "markdown",
   "id": "35c9fa1b",
   "metadata": {},
   "source": [
    "정밀도의 분자를 계산하기 위한 각 유니그램의 카운트는 다음과 같이 수정함\n",
    "\n",
    "* 유니그램이 하나의 Ref에서 최대 몇번 등장하는지 카운트 ==> Max_Ref_Count\n",
    "    $$Count_{clip}\\ =\\ min(Count,\\ Max$$\n",
    "    \n",
    "* 위의 카운트를 사용하여 분자를 계산한 정밀도를 보정된 유니그램 정밀도(Modified Unigram Precision)라고 함\n",
    "$$\\text{Modified Unigram Precision =}\\frac{\\text{Ca의 각 유니그램에 대해 }Count_{clip}\\text{을 수행한 값의 총 합}}{\\text{Ca의 총 유니그램 수}}=\\frac{\\sum_{unigram∈Candidate}\\ Count_{clip}(unigram)}\n",
    "{\\sum_{unigram∈Candidate}\\ Count(unigram)}$$\n",
    "\n",
    "* 분모는 이전과 동일하게 Ca의 모든 유니그램에 대해 각각 Count하고 모두 합한 값을 사용함\n",
    "* 보정된 유니그램 정밀도를 이용하면, Example2에서는 the의 경우 Ref1에서 2번 등장하였으므로, the의 카운트는 2로 보정됨. 이렇게 되면 정밀도는 2/7로 변경됨\n",
    "\n",
    "---\n",
    "#### 1-3. 보정도니 유니그램 정밀도(Modified Unigram Precision) 구현하기\n",
    "1. 분모의 유니그램을 카운트하는 Count 함수\n",
    "2. 분자의 유니그램을 카운트하는 $Count_{clip}$ 함수 \n",
    "3. 유니그램을 단순히 카운트하는 함수 simple_count"
   ]
  },
  {
   "cell_type": "code",
   "execution_count": 2,
   "id": "63e4869f",
   "metadata": {},
   "outputs": [],
   "source": [
    "# 토큰화된 문장(tokens)에서 n-gram을 카운트 : 유니그램의 경우 n=1\n",
    "def simple_count(tokens, n):\n",
    "    return Counter(ngrams(tokens, n))"
   ]
  },
  {
   "cell_type": "code",
   "execution_count": 3,
   "id": "28e8572b",
   "metadata": {},
   "outputs": [
    {
     "name": "stdout",
     "output_type": "stream",
     "text": [
      "유니그램 카운트 : Counter({('the',): 3, ('It',): 1, ('is',): 1, ('a',): 1, ('guide',): 1, ('to',): 1, ('action',): 1, ('which',): 1, ('ensures',): 1, ('that',): 1, ('military',): 1, ('always',): 1, ('obeys',): 1, ('commands',): 1, ('of',): 1, ('party.',): 1})\n"
     ]
    }
   ],
   "source": [
    "candidate = \"It is a guide to action which ensures that the military always obeys the commands of the party.\"\n",
    "\n",
    "tokens = candidate.split()\n",
    "result = simple_count(tokens, 1)\n",
    "print('유니그램 카운트 :', result)"
   ]
  },
  {
   "cell_type": "markdown",
   "id": "c170fafd",
   "metadata": {},
   "source": [
    "* 위의 출력 결과는 모든 유니그램을 카운트한 결과를 보여줌. 대부분의 유니그램이 1개씩 카운트되었으나, 유니그램 the는 문장에서 3번 등장하였으므로 유일하게 3의 값을 가짐"
   ]
  },
  {
   "cell_type": "code",
   "execution_count": 4,
   "id": "cf723c0b",
   "metadata": {},
   "outputs": [
    {
     "name": "stdout",
     "output_type": "stream",
     "text": [
      "유니그램 카운트 : Counter({('the',): 7})\n"
     ]
    }
   ],
   "source": [
    "candidate = 'the the the the the the the'\n",
    "tokens = candidate.split()\n",
    "result = simple_count(tokens, 1)\n",
    "print('유니그램 카운트 :', result)"
   ]
  },
  {
   "cell_type": "code",
   "execution_count": 5,
   "id": "0fb87f1e",
   "metadata": {},
   "outputs": [
    {
     "name": "stdout",
     "output_type": "stream",
     "text": [
      "('the',) 7\n"
     ]
    }
   ],
   "source": [
    "for n_gram, cnt in result.items():\n",
    "    print(n_gram, cnt)"
   ]
  },
  {
   "cell_type": "code",
   "execution_count": 63,
   "id": "6c78ab10",
   "metadata": {},
   "outputs": [],
   "source": [
    "## 분자에 해당하는 Count_clip함수 구현\n",
    "\n",
    "def count_clip(candidate, reference_list, n):\n",
    "    # ca문장을 n-gram 카운트\n",
    "    ca_cnt = simple_count(candidate.split(), n)\n",
    "    #print(ca_cnt)\n",
    "    max_ref_cnt_dict = dict()\n",
    "    \n",
    "    for ref in reference_list:\n",
    "        # ref 문장에서 n-gram 카운트\n",
    "        ref_cnt = simple_count(ref.split(), n)\n",
    "        \n",
    "        # 각 ref 문장에 대해 비교하여 n-gram의 최대 등장횟수를 계산\n",
    "        for n_gram, cnt in ref_cnt.items():\n",
    "            try:\n",
    "                max_ref_cnt_dict[n_gram] = max(ref_cnt[n_gram], max_ref_cnt_dict[n_gram])\n",
    "            except:\n",
    "                max_ref_cnt_dict[n_gram] = cnt\n",
    "                \n",
    "    return {\n",
    "        # count_clip = min(count, max_ref_count)\n",
    "        n_gram: min(ca_cnt.get(n_gram, 0), max_ref_cnt_dict.get(n_gram, 0)) for n_gram, cnt in ca_cnt.items()\n",
    "    }\n",
    "        \n",
    "    "
   ]
  },
  {
   "cell_type": "code",
   "execution_count": 64,
   "id": "d542a6a4",
   "metadata": {},
   "outputs": [],
   "source": [
    "candidate = 'the the the the the the the'\n",
    "references = [\n",
    "    'the cat is on the mat',\n",
    "    'there is a cat on the mat'\n",
    "]"
   ]
  },
  {
   "cell_type": "code",
   "execution_count": 65,
   "id": "9e96dc25",
   "metadata": {},
   "outputs": [
    {
     "data": {
      "text/plain": [
       "{('the',): 2}"
      ]
     },
     "execution_count": 65,
     "metadata": {},
     "output_type": "execute_result"
    }
   ],
   "source": [
    "count_clip(candidate, references, 1)"
   ]
  },
  {
   "cell_type": "markdown",
   "id": "c8e28d39",
   "metadata": {},
   "source": [
    "동일한 예제 문장에 대해 위의 simple_count 함수는 the가 7개로 카운트되었던 것과 달리, 이번에는 2개로 카운트됨. 위의 두 함수를 사용하여 예제문장에 대해 보정된 정밀도 연산하는 함수를 modified_precision 이름의 함수를 구현함"
   ]
  },
  {
   "cell_type": "code",
   "execution_count": 72,
   "id": "6be3a03f",
   "metadata": {},
   "outputs": [],
   "source": [
    "def modified_precision(candidate, reference_list, n):\n",
    "    clip_cnt = count_clip(candidate, reference_list, n)\n",
    "    total_clip_cnt = sum(clip_cnt.values())  # 분자\n",
    "    cnt = simple_count(candidate.split(), n)\n",
    "    total_cnt = sum(cnt.values())  # 분모\n",
    "    # 분모가 0이 되는 것을 방지\n",
    "    if total_cnt == 0:\n",
    "        total_cnt = 1\n",
    "    # 분자 : count_clip의 합, 분모 : 단순 count의 합\n",
    "    return (total_clip_cnt / total_cnt)"
   ]
  },
  {
   "cell_type": "code",
   "execution_count": 73,
   "id": "831d81ed",
   "metadata": {},
   "outputs": [
    {
     "data": {
      "text/plain": [
       "0.2857142857142857"
      ]
     },
     "execution_count": 73,
     "metadata": {},
     "output_type": "execute_result"
    }
   ],
   "source": [
    "modified_precision(candidate, references, 1)"
   ]
  },
  {
   "cell_type": "markdown",
   "id": "87d2dbe6",
   "metadata": {},
   "source": [
    "#### 1-4. 순서를 고려하기 위해 n-gram으로 확장하기\n",
    "* BoW 표현과 유사하게 유니그램 정밀도와 같이 각 단어의 빈도수로 접근하는 방법은 단어의 순서를 고려하지 않다는 것임\n",
    "\n",
    "**Example 1**\n",
    "\n",
    "* Candidate1 : It is a guide to action which ensures that the military always obeys the commands of the party.\n",
    "* Candidate2 : It is to insure the troops forever hearing the activity guidebook that party direct.\n",
    "* Candidate3 : the that military a is It guide ensures which to commands the of action obeys always party the.\n",
    "* Reference1 : It is a guide to action that ensures that the military will forever heed Party commands.\n",
    "* Reference2 : It is the guiding principle which guarantees the military forces always being under the command of the Party.\n",
    "* Reference3 : It is the practical guide for the army always to heed the directions of the party."
   ]
  },
  {
   "cell_type": "markdown",
   "id": "fa969365",
   "metadata": {},
   "source": [
    "Ca3은 Ca1에서 모든 유니그램의 순서를 랜덤으로 섞은 것으로 영어문법에 맞지 않은 문장임. 하지만 Ref1, 2, 3과 비교하여 유니그램 정밀도를 적용하면 ca1, ca3의 정밀도는 동일함.\n",
    "\n",
    "유니그램 정밀도는 유니그램의 순서를 전혀 고려하지 않았기 때문임. 따라서 개별적인 유니그램 / 단어로서 카운트하는 유니그램 정밀도에서 다음에 등장한 단어까지 함께 고려하고 Bigram, Trigram, 4-gram 단위 등으로 계산한 정밀도인 n-gram을 이용한 정밀도 측정방법 도입"
   ]
  },
  {
   "cell_type": "markdown",
   "id": "be9cf09f",
   "metadata": {},
   "source": [
    "이들 각각은 카운트 단위를 2개, 3개, 4개로 보느냐의 차이로 2-gram Precision, 3-gram precision, 4-gram precision이라고 하기도 함\n",
    "\n",
    "**Example 2**\n",
    "\n",
    "* Candidate1 : the the the the the the the\n",
    "* Candidate2 : the cat the cat on the mat\n",
    "* Reference1 : the cat is on the mat\n",
    "* Reference2 : there is a cat on the mat"
   ]
  },
  {
   "cell_type": "raw",
   "id": "e21ecc87",
   "metadata": {},
   "source": [
    "바이그램\tthe cat, cat the, cat on, on the, the mat, SUM\n",
    "-----------------------------------------------------------\n",
    "count       2\t     1\t      1\t      1\t      1\t        6\n",
    "count_clip  1\t     0\t      1\t      1\t      1\t        4"
   ]
  },
  {
   "cell_type": "markdown",
   "id": "3c04bbba",
   "metadata": {},
   "source": [
    "결과적으로 ca2의 바이그램 정밀도는 4/6이 됨. 반면, ca1의 바이그램 정밀도는 0임\n",
    "\n",
    "이 보정된 정밀도를 식으로 정의하면 다음과 같음\n",
    "$$p_{1}=\\frac{\\sum_{unigram∈Candidate}\\ Count_{clip}(unigram)}\n",
    "{\\sum_{unigram∈Candidate}\\ Count(unigram)}$$\n",
    "\n",
    "이를 n-gram으로 일반화하면 아래와 같음\n",
    "\n",
    "$$p_{n}=\\frac{\\sum_{n\\text{-}gram∈Candidate}\\ Count_{clip}(n\\text{-}gram)}\n",
    "{\\sum_{n\\text{-}gram∈Candidate}\\ Count(n\\text{-}gram)}$$"
   ]
  },
  {
   "cell_type": "markdown",
   "id": "6ced8061",
   "metadata": {},
   "source": [
    "BLEU는 보정된 정밀도 $p_{1}, p_{2}, ..., p_{n}$를 모두 조합하여 사용하는데, 이를 조합한 BLEU 식은 아래와 같음\n",
    "\n",
    "$$BLEU = exp(\\sum_{n=1}^{N}w_{n}\\ \\text{log}\\ p_{n})$$\n",
    "\n",
    "* $w_n$: 각 gram의 보정된 정밀도에서 서로 다른 가중치를 줄수 있음. 이 가중치의 합은 1이며, 예를 들어, N이 4라고 한다면, p1, p2, p3, p4 각각에 대해 동일한 가중치를 주고자 한다면 모두 0.25를 적용할 수 있음\n",
    "\n",
    "* 그러나 위의 BLEU 식에서도 문제점이 있음\n",
    "\n",
    "\n",
    "#### 1-5. 짧은 문장 길에 대한 패널티(Brevity Penalty)\n",
    "\n",
    "* n-gram으로 단어의 순서를 고려한다고 하더라도 문장 길에 BLEU의 점수가 과한 영향을 받을 수 있음\n",
    "\n",
    "\n",
    "**Example 1**\n",
    "* Candidate4 : it is\n",
    "\n",
    "이 문장은 유니그램 정밀도나 바이그램 정밀도가 각각 2/2, 1/1로 두 정밀도 모두 1이라는 높은 정밀도를 얻음. 이와 같이 제대로 도니 번역이 아님에도 문장의 길이가 짧다는 이유로 높은 점수를 받는 것은 이상함. 그래서 문장길이가 짧은 경우에는 점수에 패널티를 줄 필요가 있음. 이를 Brevity Penalty라고 함\n",
    "\n",
    "\n",
    "**Example 3**\n",
    "* Candidate 1: I always invariably perpetually do.\n",
    "* Candidate 2: I always do.\n",
    "* Reference 1: I always do.\n",
    "* Reference 2: I invariably do.\n",
    "* Reference 3: I perpetually do.\n",
    "\n",
    "Example3에서 ca1은 가장 많은 단어를 사용했지만, ca2보다 좋지 못한 번역임. 즉, Ref의 단어를 가장 많이 사용한 것이 꼭 좋은 번역이라는 의미는 아님. 따라서 Brevity Penalty를 설계할 때 이 경우는 제외해야 함\n",
    "\n",
    "다시 Ref보다 Ca의 길이가 짧을 경우, 패널티는 앞서 배운 BLEU 식에 곱하는 방식으로 사용함. Brevity Penalty를 줄여서 BP라고 할 때, 최종 식은 다음과 같음\n",
    "\n",
    "$$BLEU = BP × exp(\\sum_{n=1}^{N}w_{n}\\ \\text{log}\\ p_{n})$$\n",
    "\n",
    "위의 수식은 패널티를 줄 필요가 없는 경우, BP의 값이 1이어야 함을 의미함. 따라서 BP의 수식은 다음과 같음\n",
    "\n",
    "$$BP = \\begin{cases}1&\\text{if}\\space c>r\\\\ e^{(1-r/c)}&\\text{if}\\space c \\leq r \\end{cases}$$\n",
    "\n",
    "* c : Candidate 길이\n",
    "* r : Candidate와 가장 길이 차이가 작은 Reference 길이\n",
    "\n",
    "Ref가 1개라면 Ca와 Ref의 두 문장의 길이만을 가지고 계산하면 되겠지만, 여기서는 Ref가 여러 개일 때를 가정하므로, r은 모든 Ref 중에서 Ca와 가장 길이차이가 작은 Ref의 길이로 함\n"
   ]
  },
  {
   "cell_type": "code",
   "execution_count": 87,
   "id": "bd17e83f",
   "metadata": {},
   "outputs": [],
   "source": [
    "# Ca 길이와 가장 근접한 Ref 길이를 리턴하는 함수\n",
    "def closest_ref_length(candidate, reference_list):\n",
    "    ca_len = len(candidate.split())\n",
    "    ref_lens = [len(ref.split()) for ref in reference_list]\n",
    "    # 길이 차이를 최소화하는 Ref 찾아서 그 길이를 리턴\n",
    "    closest_ref_len = min(abs(ref-ca_len) for ref in ref_lens)\n",
    "    return closest_ref_len"
   ]
  },
  {
   "cell_type": "code",
   "execution_count": 88,
   "id": "d3a5b5c1",
   "metadata": {},
   "outputs": [
    {
     "data": {
      "text/plain": [
       "0"
      ]
     },
     "execution_count": 88,
     "metadata": {},
     "output_type": "execute_result"
    }
   ],
   "source": [
    "candidate = \"I always do.\"\n",
    "reference = [\"I always do.\"]\n",
    "closest_ref_length(candidate, reference)"
   ]
  },
  {
   "cell_type": "markdown",
   "id": "9a0fe853",
   "metadata": {},
   "source": [
    "만약 Ca와 길이가 동일한 Ref가 있다면 길이 차이가 0인 수준의 매치(best match length)임. 만약 서로 다른 길이의 Ref이지만, Ca와 길이 차이가 동일한 경우에는 더 작은 길이의 Ref를 택함\n",
    "\n",
    "예를 들어 Ca가 길이가 10인데, Ref 1, 2가 각각 9와 11이라면 길이 차이는 동일하게 1밖에 나지 않지만 9를 택함. closest_ref_length 함수를 통해 r를 구하면, BP를 구하는 함수 brevity_penalty를 구현함"
   ]
  },
  {
   "cell_type": "code",
   "execution_count": 89,
   "id": "16fcb872",
   "metadata": {},
   "outputs": [],
   "source": [
    "def brevity_penalty(candidate, reference_list):\n",
    "    ca_len = len(candidate.split())\n",
    "    ref_len = closest_ref_length(candidate, reference_list)\n",
    "    \n",
    "    if ca_len > ref_len:\n",
    "        return 1\n",
    "    \n",
    "    # candidate가 비어있다면 BP=0 -> BLEU=0.0\n",
    "    elif ca_len == 0:\n",
    "        return 0\n",
    "    else:\n",
    "        return np.exp(1 - ref_len / ca_len)"
   ]
  },
  {
   "cell_type": "markdown",
   "id": "ce30107d",
   "metadata": {},
   "source": [
    "* 위 함수는 BP의 수식처럼 c가 r보다 클 경우에는 1을 리턴하고, 그 외의 경우에는 $e^{1-r/c}$를 리턴함"
   ]
  },
  {
   "cell_type": "code",
   "execution_count": 91,
   "id": "279db548",
   "metadata": {},
   "outputs": [],
   "source": [
    "# 최종적으로 bleu score 구현\n",
    "def bleu_score(candidate, reference_list, weights=[0.25]*4):\n",
    "    bp = brevity_penalty(candidate, reference_list) # 패널티 구하기\n",
    "    p_n = [modified_precision(candidate, reference_list, n=n) for n, _ in enumerate(weights, start=1)]\n",
    "    \n",
    "    # p1, p2, p3, ..., pn\n",
    "    score = np.sum([w_i * np.log(p_i) if p_i != 0 else 0 for w_i, p_i in zip(weights, p_n)])\n",
    "    \n",
    "    return bp * np.exp(score)"
   ]
  },
  {
   "cell_type": "markdown",
   "id": "8daf98c3",
   "metadata": {},
   "source": [
    "### 2. NLTK를 사용한 BLEU 측정\n",
    "---\n",
    "* 파이썬 NLTK 패키지를 이용하여 BLEU 계산 가능"
   ]
  },
  {
   "cell_type": "code",
   "execution_count": 92,
   "id": "dcc3f403",
   "metadata": {},
   "outputs": [],
   "source": [
    "import nltk.translate.bleu_score as bleu"
   ]
  },
  {
   "cell_type": "code",
   "execution_count": 93,
   "id": "8010d247",
   "metadata": {},
   "outputs": [],
   "source": [
    "candidate = 'It is a guide to action which ensures that the military always obeys the commands of the party'\n",
    "references = [\n",
    "    'It is a guide to action that ensures that the military will forever heed Party commands',\n",
    "    'It is the guiding principle which guarantees the military forces always being under the command of the Party',\n",
    "    'It is the practical guide for the army always to heed the directions of the party'\n",
    "]"
   ]
  },
  {
   "cell_type": "code",
   "execution_count": 94,
   "id": "aa3a7a2c",
   "metadata": {},
   "outputs": [
    {
     "data": {
      "text/plain": [
       "0.5045666840058485"
      ]
     },
     "execution_count": 94,
     "metadata": {},
     "output_type": "execute_result"
    }
   ],
   "source": [
    "# 구현한 함수\n",
    "bleu_score(candidate, references)"
   ]
  },
  {
   "cell_type": "code",
   "execution_count": 95,
   "id": "b5b92960",
   "metadata": {},
   "outputs": [
    {
     "data": {
      "text/plain": [
       "0.5045666840058485"
      ]
     },
     "execution_count": 95,
     "metadata": {},
     "output_type": "execute_result"
    }
   ],
   "source": [
    "# NLTK 패키지\n",
    "reference_list = [ref.split() for ref in references]\n",
    "\n",
    "bleu.sentence_bleu(reference_list, candidate.split())"
   ]
  },
  {
   "cell_type": "code",
   "execution_count": null,
   "id": "e9b5b55b",
   "metadata": {},
   "outputs": [],
   "source": []
  }
 ],
 "metadata": {
  "kernelspec": {
   "display_name": "Python 3 (ipykernel)",
   "language": "python",
   "name": "python3"
  },
  "language_info": {
   "codemirror_mode": {
    "name": "ipython",
    "version": 3
   },
   "file_extension": ".py",
   "mimetype": "text/x-python",
   "name": "python",
   "nbconvert_exporter": "python",
   "pygments_lexer": "ipython3",
   "version": "3.8.13"
  }
 },
 "nbformat": 4,
 "nbformat_minor": 5
}
