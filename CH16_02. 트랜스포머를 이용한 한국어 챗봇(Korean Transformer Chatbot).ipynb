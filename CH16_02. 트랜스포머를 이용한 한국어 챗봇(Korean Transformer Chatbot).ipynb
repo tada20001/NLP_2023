{
 "cells": [
  {
   "cell_type": "code",
   "execution_count": 1,
   "id": "12e41ccd",
   "metadata": {},
   "outputs": [],
   "source": [
    "import numpy as np\n",
    "import matplotlib.pyplot as plt\n",
    "import tensorflow as tf"
   ]
  },
  {
   "cell_type": "code",
   "execution_count": 2,
   "id": "ac6f6bf1",
   "metadata": {},
   "outputs": [],
   "source": [
    "import matplotlib.pyplot as plt\n",
    "%matplotlib inline"
   ]
  },
  {
   "cell_type": "code",
   "execution_count": 3,
   "id": "11c2c5b5",
   "metadata": {},
   "outputs": [],
   "source": [
    "class PositionalEncoding(tf.keras.layers.Layer):\n",
    "    def __init__(self, position, d_model):\n",
    "        super(PositionalEncoding, self).__init__()\n",
    "        self.position = position\n",
    "        self.pos_encoding = self.positional_encoding(position, d_model)\n",
    "        \n",
    "    def get_angles(self, position, i, d_model): # i는 위치\n",
    "        angles = 1 / tf.pow(10000, (2 * (i // 2)) / tf.cast(d_model, tf.float32))\n",
    "        return position * angles\n",
    "    \n",
    "    def positional_encoding(self, position, d_model):\n",
    "        angles_rads = self.get_angles(position=tf.range(position, dtype=tf.float32)[:, tf.newaxis], \n",
    "                                      i=tf.range(d_model, dtype=tf.float32)[tf.newaxis, :], \n",
    "                                      d_model=d_model)\n",
    "        # 배열의 짝수 인덱스(2i)에는 사인 함수 적용\n",
    "        sines = tf.math.sin(angles_rads[:, 0::2])  # 짝수만 적용\n",
    "        cosines = tf.math.cos(angles_rads[:, 1::2]) # 홀수만 적용\n",
    "        \n",
    "        print(\"angle rads shape: \", angles_rads.shape)\n",
    "        angles_rads = np.zeros(angles_rads.shape)\n",
    "        angles_rads[:, 0::2] = sines\n",
    "        angles_rads[:, 1::2] = cosines\n",
    "        pos_encoding = tf.constant(angles_rads)\n",
    "        pos_encoding = pos_encoding[tf.newaxis, ...]\n",
    "        \n",
    "        print(\"positional encoding shape: \", pos_encoding.shape)\n",
    "        return tf.cast(pos_encoding, tf.float32)\n",
    "    \n",
    "    def call(self, inputs):\n",
    "        return inputs + self.pos_encoding[:, :tf.shape(inputs)[1], :]"
   ]
  },
  {
   "cell_type": "code",
   "execution_count": 4,
   "id": "41c178fa",
   "metadata": {},
   "outputs": [],
   "source": [
    "def scaled_dot_product_attention(query, key, value, mask):\n",
    "    # query 크기 : (batch_size, num_heads, query 문장길이, d_model/num_heads)\n",
    "    # key 크기 : (batch_size, num_heads, key 문장길이, d_model/num_heads)\n",
    "    # value 크기 : (batch_size, num_heads, value 문장길이, d_model/num_heads)\n",
    "    # padding mask : (batch_size, 1, 1, key의 문장길이)\n",
    "    \n",
    "    # Q와 K의 곱. 어텐션 스코어의 행렬\n",
    "    matmul_qk = tf.matmul(query, key, transpose_b=True) # key를 전치한 후 곱함\n",
    "    \n",
    "    # 스케일링 : dk의 루트값으로 나눔\n",
    "    depth = tf.cast(tf.shape(key)[-1], tf.float32)\n",
    "    logits = matmul_qk / tf.math.sqrt(depth)\n",
    "    \n",
    "    # 마스킹. 어텐션 스코어 행렬의 마스킹 위치에 매우 작은 음수값을 넣는다.\n",
    "    # 아주 작은 값이므로 소프트맥스 함수를 지나면 행렬의 해당 위치의 값은 0이 됨\n",
    "    if mask is not None:\n",
    "        logits += (mask * -1e9)\n",
    "        \n",
    "    # 소프트맥스 함수는 마지막 차원인 key의 문장 길이 방향으로 수행됨\n",
    "    # attention weight : (batch_size, num_heads, query의 문장 길이, key의 문장길이)\n",
    "    attention_weights = tf.nn.softmax(logits, axis=-1)\n",
    "    \n",
    "    # output : (batch_size, num_heads, query 문장길이, d_mode/num_heads)\n",
    "    output = tf.matmul(attention_weights, value)\n",
    "    \n",
    "    return output, attention_weights"
   ]
  },
  {
   "cell_type": "code",
   "execution_count": 5,
   "id": "2a217762",
   "metadata": {},
   "outputs": [],
   "source": [
    "class MultiHeadAttention(tf.keras.layers.Layer):\n",
    "    \n",
    "    def __init__(self, d_model, num_heads, name=\"multi_head_attention\"):\n",
    "        super(MultiHeadAttention, self).__init__(name=name)\n",
    "        self.num_heads = num_heads\n",
    "        self.d_model = d_model\n",
    "        \n",
    "        assert d_model % self.num_heads == 0\n",
    "        \n",
    "        # d_model을 num_heads로 나눈 값(d_k)\n",
    "        self.depth = d_model // self.num_heads\n",
    "        \n",
    "        # WQ, WK, WV에 해당하는 밀집층 정의\n",
    "        self.query_dense = tf.keras.layers.Dense(units=d_model)\n",
    "        self.key_dense = tf.keras.layers.Dense(units=d_model)\n",
    "        self.value_dense = tf.keras.layers.Dense(units=d_model)\n",
    "        \n",
    "        # W0에 해당하는 밀집층 정의\n",
    "        self.dense = tf.keras.layers.Dense(units=d_model)\n",
    "        \n",
    "    # num_heads 만큼 q, k, v를 split하는 함수\n",
    "    def split_heads(self, inputs, batch_size):\n",
    "        inputs = tf.reshape(\n",
    "            inputs, shape=(batch_size, -1, self.num_heads, self.depth))\n",
    "        return tf.transpose(inputs, perm=[0, 2, 1, 3])\n",
    "    \n",
    "    def call(self, inputs):\n",
    "        query, key, value, mask = inputs['query'], inputs['key'], inputs['value'], inputs['mask']\n",
    "        batch_size = tf.shape(query)[0]\n",
    "        \n",
    "        # 1. WQ, WK, WV에 해당하는 밀집층 지나기\n",
    "        # q: (batch_size, query의 문장길이, d_model)\n",
    "        # k: (batch_size, key의 문장길이, d_model)\n",
    "        # v: (batch_size, value의 문장길이, d_model)\n",
    "        # 참고) 인코더(k, v)-디코더(q) 어텐션에서는 query 길이와 key, value의 길이는 다를 수 있음\n",
    "        query = self.query_dense(query)\n",
    "        key = self.key_dense(key)\n",
    "        value = self.value_dense(value)\n",
    "        \n",
    "        # 2. 헤드 나누기\n",
    "        # q : (batch_size, num_heads, query의 문장 길이, d_model/num_heads)\n",
    "        # k : (batch_size, num_heads, key의 문장 길이, d_model/num_heads)\n",
    "        # v : (batch_size, num_heads, value의 문장 길이, d_model/num_heads)\n",
    "        query = self.split_heads(query, batch_size)\n",
    "        key = self.split_heads(key, batch_size)\n",
    "        value = self.split_heads(value, batch_size)\n",
    "        \n",
    "        # 3. scaled dot product attention (앞서 구현한 함수 이용)\n",
    "        # (batch_size, num_heads, query의 문장 길이, d_model/num_heads)\n",
    "        scaled_attention, _ = scaled_dot_product_attention(query, key, value, mask)\n",
    "        \n",
    "        # (batch_size, query 문장길이, num_heads, d_model/num_hedas)\n",
    "        scaled_attention = tf.transpose(scaled_attention, perm=[0, 2, 1, 3])\n",
    "        \n",
    "        # 4. 헤드 연결\n",
    "        # (batch_size, query의 문장 길이, d_model)\n",
    "        concat_attention = tf.reshape(scaled_attention, (batch_size, -1, self.d_model))\n",
    "        \n",
    "        # 5. W0에 해당하는 밀집층 지나기\n",
    "        # (batch_size, query 문장 길이, d_model)\n",
    "        outputs = self.dense(concat_attention)  # self.dense == WO\n",
    "        \n",
    "        return outputs"
   ]
  },
  {
   "cell_type": "code",
   "execution_count": 6,
   "id": "7d6359f4",
   "metadata": {},
   "outputs": [],
   "source": [
    "def create_padding_mask(x):\n",
    "    mask = tf.cast(tf.math.equal(x, 0), tf.float32)  # x=0이면 True이므로 1반환\n",
    "    # (batch_size, 1, 1, key의 문장 길이)\n",
    "    return mask[:, tf.newaxis, tf.newaxis, :]"
   ]
  },
  {
   "cell_type": "code",
   "execution_count": 7,
   "id": "d8882d1e",
   "metadata": {},
   "outputs": [],
   "source": [
    "def encoder_layer(dff, d_model, num_heads, dropout, name='encoder_layer'):\n",
    "    inputs = tf.keras.Input(shape=(None, d_model), name='inputs')\n",
    "    \n",
    "    # 인코더는 패딩 마스크 사용\n",
    "    padding_mask = tf.keras.Input(shape=(1, 1, None), name='padding_mask')\n",
    "    \n",
    "    # 멀티-헤드 어텐션 (첫번째 서브층 / 셀프 어텐션)\n",
    "    attention = MultiHeadAttention(\n",
    "        d_model, num_heads, name='attention')({\n",
    "        'query': inputs, 'key': inputs, 'value': inputs, # Q = K = V\n",
    "        'mask': padding_mask,\n",
    "    })\n",
    "    \n",
    "    # dropout ==> 잔차연결, 층 정규화\n",
    "    attention = tf.keras.layers.Dropout(rate=dropout)(attention)\n",
    "    attention = tf.keras.layers.LayerNormalization(\n",
    "        epsilon=1e-6)(inputs + attention)\n",
    "    \n",
    "    # 포지션 와이드 FNN(두번째 서브층)\n",
    "    outputs = tf.keras.layers.Dense(units=dff, activation='relu')(attention)\n",
    "    outputs = tf.keras.layers.Dense(units=d_model)(outputs)\n",
    "    \n",
    "    # 드롭아웃 ==> 잔차연결, 층정규화\n",
    "    outputs = tf.keras.layers.Dropout(rate=dropout)(outputs)\n",
    "    outputs = tf.keras.layers.LayerNormalization(epsilon=1e-6)(attention + outputs) # 여기서는 attention을 더함\n",
    "    \n",
    "    return tf.keras.Model(inputs=[inputs, padding_mask], outputs=outputs, name=name)"
   ]
  },
  {
   "cell_type": "code",
   "execution_count": 8,
   "id": "e238785a",
   "metadata": {},
   "outputs": [],
   "source": [
    "def encoder(vocab_size, num_layers, dff, d_model, num_heads, dropout, name='encoder'):\n",
    "    inputs = tf.keras.Input(shape=(None, ), name=\"inputs\")\n",
    "    \n",
    "    # 인코더는 패딩 마스크를 사용\n",
    "    padding_mask = tf.keras.Input(shape=(1, 1, None), name='padding_mask')\n",
    "    \n",
    "    # 포지셔널 인코딩 + 드롭아웃\n",
    "    embeddings = tf.keras.layers.Embedding(vocab_size, d_model)(inputs)\n",
    "    embeddings *= tf.math.sqrt(tf.cast(d_model, tf.float32))\n",
    "    embeddings = PositionalEncoding(vocab_size, d_model)(embeddings)\n",
    "    outputs = tf.keras.layers.Dropout(rate=dropout)(embeddings)\n",
    "    \n",
    "    # 인코더를 num_layers개 쌓기\n",
    "    for i in range(num_layers):\n",
    "        outputs = encoder_layer(dff=dff, d_model=d_model, num_heads=num_heads, dropout=dropout, \n",
    "                                name='encoder_layer_{}'.format(i))([outputs, padding_mask])\n",
    "    print(outputs)\n",
    "        \n",
    "    return tf.keras.Model(\n",
    "        inputs=[inputs, padding_mask], outputs=outputs, name=name)"
   ]
  },
  {
   "cell_type": "code",
   "execution_count": 9,
   "id": "fef3ce95",
   "metadata": {},
   "outputs": [],
   "source": [
    "# 디코더의 첫번째 서브층에서 미래 토른을 mask하는 함수\n",
    "def create_look_ahead_mask(x):\n",
    "    seq_len = tf.shape(x)[1]\n",
    "    look_ahead_mask = 1 - tf.linalg.band_part(tf.ones((seq_len, seq_len)), -1, 0) # 상삼각행렬 구하기\n",
    "    padding_mask = create_padding_mask(x) # 패딩 마스크도 추가\n",
    "    #print(look_ahead_mask)\n",
    "    #print(padding_mask)\n",
    "    return tf.maximum(look_ahead_mask, padding_mask)"
   ]
  },
  {
   "cell_type": "code",
   "execution_count": 10,
   "id": "c92ce0f6",
   "metadata": {},
   "outputs": [],
   "source": [
    "def decoder_layer(dff, d_model, num_heads, dropout, name='decoder_layer'):\n",
    "    inputs = tf.keras.Input(shape=(None, d_model), name='inputs')\n",
    "    enc_outputs = tf.keras.Input(shape=(None, d_model), name=\"encoder_outputs\")\n",
    "    \n",
    "    # 룩어헤드 마스크(첫번째 서브층)\n",
    "    look_ahead_mask = tf.keras.Input(shape=(1, None, None), name='look_ahead_mask')\n",
    "    \n",
    "    # 패딩 마스크\n",
    "    padding_mask = tf.keras.Input(shape=(1, 1, None), name='padding_mask')\n",
    "    \n",
    "    # 멀티-헤드 어텐션 (첫번째 서브층 / 마스크드 셀프 어텐션)\n",
    "    attention1 = MultiHeadAttention(\n",
    "        d_model, num_heads, name='attention1')(inputs={\n",
    "        'query': inputs, 'key': inputs, 'value': inputs,  # Q = K = V\n",
    "        'mask': look_ahead_mask\n",
    "    })\n",
    "    \n",
    "    # 잔차연결과 층 정규화(드롭아웃 생략)\n",
    "    attention1 = tf.keras.layers.LayerNormalization(epsilon=1e-6)(attention1 + inputs)\n",
    "    \n",
    "    # 멀티 헤드 어텐션(두번째 서브층 / 디코더-인코더 어텐션)\n",
    "    attention2 = MultiHeadAttention(d_model, num_heads, name='attention_2')(inputs={\n",
    "        'query': attention1, 'key': enc_outputs, 'value': enc_outputs, 'mask': padding_mask\n",
    "    })\n",
    "    \n",
    "    # 드롭아웃 + 잔차연결, 정규화\n",
    "    attention2 = tf.keras.layers.Dropout(rate=dropout)(attention2)\n",
    "    attention2 = tf.keras.layers.LayerNormalization(epsilon=1e-6)(attention2 + attention1)\n",
    "    \n",
    "    # 포지션 와이드 FNN(세번째 서브층)\n",
    "    outputs = tf.keras.layers.Dense(units=dff, activation='relu')(attention2)\n",
    "    outputs = tf.keras.layers.Dense(units=d_model)(outputs)\n",
    "    \n",
    "    # 드롭아웃 + 잔차연결, 층 정규화\n",
    "    outputs = tf.keras.layers.Dropout(rate=dropout)(outputs)\n",
    "    outputs = tf.keras.layers.LayerNormalization(epsilon=1e-6)(outputs + attention2)\n",
    "    \n",
    "    return tf.keras.Model(\n",
    "        inputs=[inputs, enc_outputs, look_ahead_mask, padding_mask], outputs=outputs, name=name)"
   ]
  },
  {
   "cell_type": "code",
   "execution_count": 11,
   "id": "81d5f99d",
   "metadata": {},
   "outputs": [],
   "source": [
    "def decoder(vocab_size, num_layers, dff, d_model, num_heads, dropout, name='decoder'):\n",
    "    inputs = tf.keras.Input(shape=(None,), name='inputs')\n",
    "    enc_outputs = tf.keras.Input(shape=(None, d_model), name='enc_outputs')\n",
    "    \n",
    "    # 디코더는 룩어헤드 마스크(첫번째 서브층)와 패딩 마스크(두번째 서브층) 둘다 사용\n",
    "    look_ahead_mask = tf.keras.Input(shape=(1, None, None), name='look_ahead_mask')\n",
    "    padding_mask = tf.keras.Input(shape=(1, 1, None), name='padding_mask')\n",
    "    \n",
    "    # 포지셔널 인코딩 + 드롭아웃\n",
    "    embeddings = tf.keras.layers.Embedding(vocab_size, d_model)(inputs)\n",
    "    embeddings *= tf.math.sqrt(tf.cast(d_model, tf.float32))\n",
    "    embeddings = PositionalEncoding(vocab_size, d_model)(embeddings)\n",
    "    outputs = tf.keras.layers.Dropout(rate=dropout)(embeddings)\n",
    "    \n",
    "    # 디코더를 num_layer개 쌓기\n",
    "    for i in range(num_layers):\n",
    "        outputs = decoder_layer(dff=dff, d_model=d_model, num_heads=num_heads, dropout=dropout, \n",
    "                                name='decoder_layer_{}'.format(i))\\\n",
    "        (inputs=[outputs, enc_outputs, look_ahead_mask, padding_mask])\n",
    "        \n",
    "    return tf.keras.Model(\n",
    "        inputs=[inputs, enc_outputs, look_ahead_mask, padding_mask], outputs=outputs, name=name\n",
    "    )"
   ]
  },
  {
   "cell_type": "code",
   "execution_count": 12,
   "id": "d4e1946b",
   "metadata": {},
   "outputs": [],
   "source": [
    "def transformer(vocab_size, num_layers, dff, d_model, num_heads, dropout, name='transformer'):\n",
    "    # 인코더의 입력\n",
    "    inputs = tf.keras.Input(shape=(None,), name='inputs')\n",
    "    \n",
    "    \n",
    "    # 디코더의 입력\n",
    "    dec_inputs = tf.keras.Input(shape=(None,), name='dec_inputs')\n",
    "    \n",
    "    # 인코더의 패딩 마스크\n",
    "    enc_padding_mask = tf.keras.layers.Lambda(\n",
    "        create_padding_mask, output_shape=(1, 1, None), name='enc_padding_mask')(inputs)\n",
    "    \n",
    "    # 디코더의 룩어헤드 마스크(첫번째 서브층)\n",
    "    look_ahead_mask = tf.keras.layers.Lambda(\n",
    "        create_look_ahead_mask, output_shape=(1, None, None), name='look_ahead_mask')(dec_inputs)\n",
    "    \n",
    "    # 디코더의 패딩 마스크(두번째 서브층)\n",
    "    dec_padding_mask = tf.keras.layers.Lambda(\n",
    "        create_padding_mask, output_shape=(1, 1, None), name='dec_padding_mask')(inputs) # 주의!!\n",
    "    \n",
    "    # 인코더의 출력은 enc_outputs 디코더로 전달\n",
    "    enc_outputs = encoder(vocab_size=vocab_size, num_layers=num_layers, dff=dff, \n",
    "                          num_heads=num_heads, d_model=d_model, dropout=dropout)\\\n",
    "                        (inputs=[inputs, enc_padding_mask]) # 인코더의 입력은 입력문장과 패딩 마스크\n",
    "    \n",
    "    # 디코더의 출력은 dec_outputs, 출력층으로 전달\n",
    "    dec_outputs = decoder(vocab_size=vocab_size, num_layers=num_layers, dff=dff, \n",
    "                          d_model=d_model, num_heads=num_heads, dropout=dropout)\\\n",
    "                        (inputs=[dec_inputs, enc_outputs, look_ahead_mask, dec_padding_mask])\n",
    "    \n",
    "    # 다음 단어 예측을 위한 출력층\n",
    "    outputs = tf.keras.layers.Dense(units=vocab_size, name='outputs')(dec_outputs)\n",
    "    \n",
    "    return tf.keras.Model(inputs=[inputs, dec_inputs], outputs=outputs, name=name)"
   ]
  },
  {
   "cell_type": "code",
   "execution_count": 13,
   "id": "c06f8d78",
   "metadata": {},
   "outputs": [
    {
     "name": "stdout",
     "output_type": "stream",
     "text": [
      "angle rads shape:  (9000, 128)\n",
      "positional encoding shape:  (1, 9000, 128)\n",
      "WARNING:tensorflow:AutoGraph could not transform <bound method PositionalEncoding.call of <__main__.PositionalEncoding object at 0x0000020094F34E80>> and will run it as-is.\n",
      "Please report this to the TensorFlow team. When filing the bug, set the verbosity to 10 (on Linux, `export AUTOGRAPH_VERBOSITY=10`) and attach the full output.\n",
      "Cause: module 'gast' has no attribute 'Index'\n",
      "To silence this warning, decorate the function with @tf.autograph.experimental.do_not_convert\n",
      "WARNING: AutoGraph could not transform <bound method PositionalEncoding.call of <__main__.PositionalEncoding object at 0x0000020094F34E80>> and will run it as-is.\n",
      "Please report this to the TensorFlow team. When filing the bug, set the verbosity to 10 (on Linux, `export AUTOGRAPH_VERBOSITY=10`) and attach the full output.\n",
      "Cause: module 'gast' has no attribute 'Index'\n",
      "To silence this warning, decorate the function with @tf.autograph.experimental.do_not_convert\n",
      "WARNING:tensorflow:AutoGraph could not transform <bound method MultiHeadAttention.call of <__main__.MultiHeadAttention object at 0x000002009547AC70>> and will run it as-is.\n",
      "Please report this to the TensorFlow team. When filing the bug, set the verbosity to 10 (on Linux, `export AUTOGRAPH_VERBOSITY=10`) and attach the full output.\n",
      "Cause: module 'gast' has no attribute 'Index'\n",
      "To silence this warning, decorate the function with @tf.autograph.experimental.do_not_convert\n",
      "WARNING: AutoGraph could not transform <bound method MultiHeadAttention.call of <__main__.MultiHeadAttention object at 0x000002009547AC70>> and will run it as-is.\n",
      "Please report this to the TensorFlow team. When filing the bug, set the verbosity to 10 (on Linux, `export AUTOGRAPH_VERBOSITY=10`) and attach the full output.\n",
      "Cause: module 'gast' has no attribute 'Index'\n",
      "To silence this warning, decorate the function with @tf.autograph.experimental.do_not_convert\n",
      "Tensor(\"encoder_layer_3/layer_normalization_7/batchnorm/add_1:0\", shape=(None, None, 128), dtype=float32)\n",
      "angle rads shape:  (9000, 128)\n",
      "positional encoding shape:  (1, 9000, 128)\n"
     ]
    },
    {
     "data": {
      "image/png": "[encoded data removed]",
      "text/plain": [
       "<IPython.core.display.Image object>"
      ]
     },
     "execution_count": 13,
     "metadata": {},
     "output_type": "execute_result"
    }
   ],
   "source": [
    "# 논문과 다르게 설정\n",
    "small_transformer = transformer(\n",
    "    vocab_size=9000, num_layers=4, dff=512, d_model=128, num_heads=4, \n",
    "    dropout=0.3, name='small_transformer')\n",
    "\n",
    "tf.keras.utils.plot_model(\n",
    "    small_transformer, to_file='small_transformer.png', show_shapes=True\n",
    ")"
   ]
  },
  {
   "cell_type": "markdown",
   "id": "b3db6a78",
   "metadata": {},
   "source": [
    "### 19. 손실함수 정의\n",
    "--------------------\n",
    "다중 클래스 문제를 풀 예정이므로 크로스 엔트로피 함수를 손실함수로 정의"
   ]
  },
  {
   "cell_type": "code",
   "execution_count": 14,
   "id": "10d74de8",
   "metadata": {},
   "outputs": [],
   "source": [
    "def loss_function(y_true, y_pred):\n",
    "    y_true = tf.reshape(y_true, shape=(-1, MAX_LENGTH - 1))\n",
    "    \n",
    "    loss = tf.keras.losses.SparseCategoricalCrossentropy(\n",
    "        from_logits=True, reduction='none')(y_true, y_pred)\n",
    "    mask = tf.cast(tf.not_equal(y_true, 0), tf.float32)\n",
    "    loss = tf.multiply(loss, mask)\n",
    "    \n",
    "    return tf.reduce_mean(loss)"
   ]
  },
  {
   "cell_type": "markdown",
   "id": "bc2e7c36",
   "metadata": {},
   "source": [
    "### 20. 학습률\n",
    "----------------\n",
    "학습률 스케줄러는 미리 학습 일정을 정해두고 그 일정에 따라 학습률이 조정되는 방법임. 트랜스포머의 경우 **사용자가 정한 단계까지 학습률을 증가시켰다가 단계에 이르면 학습률을 점차적으로 떨어트리는 방식**을 사용함\n",
    "\n",
    "1 step_num(단계)는 옵티마이저가 매개변수 업데이트를 한번 진행한다는 작업을 의미하고, warmup_steps라는 변수를 정하여 step_num이 warmup_steps보다 작을 경우 학습률을 선형적으로 증가시키고, 도달할 경우에 step_num의 역제곱근에 따라 감소시킴\n",
    "\n",
    "$$\\Large{lrate = d_{model}^{-0.5} × min(\\text{step_num}^{-0.5},\\ \\text{step_num} × \\text{warmup_steps}^{-1.5})}$$\n",
    "\n",
    "여기에서는 warmup_steps 값으로 4,000을 사용함"
   ]
  },
  {
   "cell_type": "code",
   "execution_count": 15,
   "id": "33acdda5",
   "metadata": {},
   "outputs": [],
   "source": [
    "class CustomSchedule(tf.keras.optimizers.schedules.LearningRateSchedule):\n",
    "    \n",
    "    def __init__(self, d_model, warmup_steps=4000):\n",
    "        super(CustomSchedule, self).__init__()\n",
    "        self.d_model = d_model\n",
    "        self.d_model = tf.cast(self.d_model, tf.float32)\n",
    "        self.warmup_steps = warmup_steps\n",
    "        \n",
    "    def __call__(self, step):\n",
    "        arg1 = tf.math.rsqrt(step)\n",
    "        arg2 = step * (self.warmup_steps**-1.5)\n",
    "        \n",
    "        return tf.math.rsqrt(self.d_model) * tf.math.minimum(arg1, arg2)"
   ]
  },
  {
   "cell_type": "markdown",
   "id": "6c617a90",
   "metadata": {},
   "source": [
    "## 트랜스포머를 이용한 한국어 챗봇\n",
    "\n",
    "### 1. 데이터 로드"
   ]
  },
  {
   "cell_type": "code",
   "execution_count": 16,
   "id": "c4f9ab74",
   "metadata": {},
   "outputs": [],
   "source": [
    "import pandas as pd\n",
    "import numpy as np\n",
    "import re\n",
    "import urllib.request\n",
    "import time\n",
    "import tensorflow_datasets as tfds\n",
    "import tensorflow as tf"
   ]
  },
  {
   "cell_type": "code",
   "execution_count": 17,
   "id": "95322496",
   "metadata": {},
   "outputs": [
    {
     "data": {
      "text/html": [
       "<div>\n",
       "<style scoped>\n",
       "    .dataframe tbody tr th:only-of-type {\n",
       "        vertical-align: middle;\n",
       "    }\n",
       "\n",
       "    .dataframe tbody tr th {\n",
       "        vertical-align: top;\n",
       "    }\n",
       "\n",
       "    .dataframe thead th {\n",
       "        text-align: right;\n",
       "    }\n",
       "</style>\n",
       "<table border=\"1\" class=\"dataframe\">\n",
       "  <thead>\n",
       "    <tr style=\"text-align: right;\">\n",
       "      <th></th>\n",
       "      <th>Q</th>\n",
       "      <th>A</th>\n",
       "      <th>label</th>\n",
       "    </tr>\n",
       "  </thead>\n",
       "  <tbody>\n",
       "    <tr>\n",
       "      <th>0</th>\n",
       "      <td>12시 땡!</td>\n",
       "      <td>하루가 또 가네요.</td>\n",
       "      <td>0</td>\n",
       "    </tr>\n",
       "    <tr>\n",
       "      <th>1</th>\n",
       "      <td>1지망 학교 떨어졌어</td>\n",
       "      <td>위로해 드립니다.</td>\n",
       "      <td>0</td>\n",
       "    </tr>\n",
       "    <tr>\n",
       "      <th>2</th>\n",
       "      <td>3박4일 놀러가고 싶다</td>\n",
       "      <td>여행은 언제나 좋죠.</td>\n",
       "      <td>0</td>\n",
       "    </tr>\n",
       "    <tr>\n",
       "      <th>3</th>\n",
       "      <td>3박4일 정도 놀러가고 싶다</td>\n",
       "      <td>여행은 언제나 좋죠.</td>\n",
       "      <td>0</td>\n",
       "    </tr>\n",
       "    <tr>\n",
       "      <th>4</th>\n",
       "      <td>PPL 심하네</td>\n",
       "      <td>눈살이 찌푸려지죠.</td>\n",
       "      <td>0</td>\n",
       "    </tr>\n",
       "  </tbody>\n",
       "</table>\n",
       "</div>"
      ],
      "text/plain": [
       "                 Q            A  label\n",
       "0           12시 땡!   하루가 또 가네요.      0\n",
       "1      1지망 학교 떨어졌어    위로해 드립니다.      0\n",
       "2     3박4일 놀러가고 싶다  여행은 언제나 좋죠.      0\n",
       "3  3박4일 정도 놀러가고 싶다  여행은 언제나 좋죠.      0\n",
       "4          PPL 심하네   눈살이 찌푸려지죠.      0"
      ]
     },
     "execution_count": 17,
     "metadata": {},
     "output_type": "execute_result"
    }
   ],
   "source": [
    "urllib.request.urlretrieve(\"https://raw.githubusercontent.com/songys/Chatbot_data/master/ChatbotData.csv\", \n",
    "                           filename=\"ChatBotData.csv\")\n",
    "train_data = pd.read_csv('ChatBotData.csv')\n",
    "train_data.head()"
   ]
  },
  {
   "cell_type": "markdown",
   "id": "d87a8f24",
   "metadata": {},
   "source": [
    "질문과 대답의 쌍을 이룬 데이터임"
   ]
  },
  {
   "cell_type": "code",
   "execution_count": 18,
   "id": "db8fa363",
   "metadata": {},
   "outputs": [
    {
     "name": "stdout",
     "output_type": "stream",
     "text": [
      "(11823, 3)\n"
     ]
    }
   ],
   "source": [
    "print(train_data.shape)"
   ]
  },
  {
   "cell_type": "markdown",
   "id": "392c4661",
   "metadata": {},
   "source": [
    "### 2. 전처리"
   ]
  },
  {
   "cell_type": "code",
   "execution_count": 19,
   "id": "20102646",
   "metadata": {},
   "outputs": [
    {
     "data": {
      "text/plain": [
       "Q        0\n",
       "A        0\n",
       "label    0\n",
       "dtype: int64"
      ]
     },
     "execution_count": 19,
     "metadata": {},
     "output_type": "execute_result"
    }
   ],
   "source": [
    "# Null 값 확인 ==> 없음\n",
    "train_data.isnull().sum()"
   ]
  },
  {
   "cell_type": "markdown",
   "id": "22493886",
   "metadata": {},
   "source": [
    "토큰화를 위해 형태소 분석기를 사용하지 않고, 학습기반의 토크나이저 사용. 먼저, 구두점 등의 부호를 미리 처리하나 여기에서는 제거하지 않고 공백으로 대체하여 다른 문자들과 구분함"
   ]
  },
  {
   "cell_type": "code",
   "execution_count": 20,
   "id": "979ae8d9",
   "metadata": {},
   "outputs": [],
   "source": [
    "questions = []\n",
    "for sentence in train_data['Q']:\n",
    "    sentence = re.sub(r'([?.!,])', r\" \\1 \", sentence)\n",
    "    sentence = sentence.strip()\n",
    "    questions.append(sentence)"
   ]
  },
  {
   "cell_type": "code",
   "execution_count": 21,
   "id": "51293eb3",
   "metadata": {},
   "outputs": [],
   "source": [
    "answers = []\n",
    "for sentence in train_data['A']:\n",
    "    sentence = re.sub(r'([?.!,])', r\" \\1 \", sentence)\n",
    "    sentence = sentence.strip()\n",
    "    answers.append(sentence)"
   ]
  },
  {
   "cell_type": "code",
   "execution_count": 22,
   "id": "1d046a32",
   "metadata": {},
   "outputs": [
    {
     "name": "stdout",
     "output_type": "stream",
     "text": [
      "['12시 땡 !', '1지망 학교 떨어졌어', '3박4일 놀러가고 싶다', '3박4일 정도 놀러가고 싶다', 'PPL 심하네']\n",
      "--------------------------------------------------\n",
      "['하루가 또 가네요 .', '위로해 드립니다 .', '여행은 언제나 좋죠 .', '여행은 언제나 좋죠 .', '눈살이 찌푸려지죠 .']\n"
     ]
    }
   ],
   "source": [
    "print(questions[:5])\n",
    "print('-'*50)\n",
    "print(answers[:5])"
   ]
  },
  {
   "cell_type": "markdown",
   "id": "25d3c7b4",
   "metadata": {},
   "source": [
    "### 3. 단어 집합 생성\n",
    "-------------------\n",
    "서브워드 텍스트 인코더를 사용하여 토큰 분리. 자주 사용되는 서브워드 단위로 토큰을 분리하는 토크나이저로 학습데이터로부터 학습하여 서브워드로 구성된 단어집합을 생성함"
   ]
  },
  {
   "cell_type": "code",
   "execution_count": 23,
   "id": "6b8ffa30",
   "metadata": {},
   "outputs": [],
   "source": [
    "# 서브워드 텍스트 인코더를 사용하여 질문, 답변 데이터로부터 단어집합 생성\n",
    "tokenizer = tfds.deprecated.text.SubwordTextEncoder.build_from_corpus(\n",
    "    questions + answers, target_vocab_size=2**13)"
   ]
  },
  {
   "cell_type": "markdown",
   "id": "3cd5b8c7",
   "metadata": {},
   "source": [
    "단어집합이 생성되었지만, 여기에 시작과 끝을 의미하는 토큰 \\<SOS>와 \\<EOS>를 포함해야 하므로 이 토큰에 정수를 부여해 줌 "
   ]
  },
  {
   "cell_type": "code",
   "execution_count": 24,
   "id": "061ef4f5",
   "metadata": {},
   "outputs": [],
   "source": [
    "START_TOKEN, END_TOKEN = [tokenizer.vocab_size], [tokenizer.vocab_size + 1]\n",
    "\n",
    "VOCAB_SIZE = tokenizer.vocab_size + 2"
   ]
  },
  {
   "cell_type": "code",
   "execution_count": 25,
   "id": "8483b6a0",
   "metadata": {},
   "outputs": [
    {
     "name": "stdout",
     "output_type": "stream",
     "text": [
      "시작토큰 번호: [8178]\n",
      "끝 토큰 번호: [8179]\n",
      "단어집합 크기 : 8180\n"
     ]
    }
   ],
   "source": [
    "print('시작토큰 번호:', START_TOKEN)\n",
    "print('끝 토큰 번호:', END_TOKEN)\n",
    "print('단어집합 크기 :', VOCAB_SIZE)"
   ]
  },
  {
   "cell_type": "markdown",
   "id": "b946c46e",
   "metadata": {},
   "source": [
    "### 4. 정수 인코딩과 패딩\n",
    "---------------------------\n",
    "단어 집합을 생성한 후에 토큰나이저로 정수인코딩 실행. .encode()로 가능"
   ]
  },
  {
   "cell_type": "code",
   "execution_count": 26,
   "id": "3a0d83e0",
   "metadata": {},
   "outputs": [
    {
     "data": {
      "text/plain": [
       "[5766, 611, 3509, 141, 685, 3747, 849]"
      ]
     },
     "execution_count": 26,
     "metadata": {},
     "output_type": "execute_result"
    }
   ],
   "source": [
    "# example\n",
    "tokenizer.encode(questions[20])"
   ]
  },
  {
   "cell_type": "code",
   "execution_count": 27,
   "id": "4f88f489",
   "metadata": {},
   "outputs": [
    {
     "data": {
      "text/plain": [
       "'가스비 비싼데 감기 걸리겠어'"
      ]
     },
     "execution_count": 27,
     "metadata": {},
     "output_type": "execute_result"
    }
   ],
   "source": [
    "tokenizer.decode([5766, 611, 3509, 141, 685, 3747, 849])"
   ]
  },
  {
   "cell_type": "code",
   "execution_count": 28,
   "id": "ce437a37",
   "metadata": {},
   "outputs": [
    {
     "data": {
      "text/plain": [
       "'가스비 비싼데 감기 걸리겠어'"
      ]
     },
     "execution_count": 28,
     "metadata": {},
     "output_type": "execute_result"
    }
   ],
   "source": [
    "questions[20]"
   ]
  },
  {
   "cell_type": "markdown",
   "id": "3212dd84",
   "metadata": {},
   "source": [
    "전체 데이터에 대해 정수 인코딩과 패딩 수행. 이를 위한 함수로 tokenize_and_filter()를 만들어 진행. 패딩 길이는 40으로 설정"
   ]
  },
  {
   "cell_type": "code",
   "execution_count": 29,
   "id": "94e0c3d2",
   "metadata": {},
   "outputs": [],
   "source": [
    "MAX_LENGTH = 40\n",
    "\n",
    "# 토큰화 => 정수인코딩 => 시작토큰과 종료토큰 추가 => 패딩\n",
    "def tokenize_and_filter(inputs, outputs):\n",
    "    tokenized_inputs, tokenized_outputs = [], []\n",
    "    \n",
    "    for (sentence1, sentence2) in zip(inputs, outputs):\n",
    "        # encode(토큰화 + 정수 인코딩), 시작토큰과 종료토큰 추가\n",
    "        sentence1 = START_TOKEN + tokenizer.encode(sentence1) + END_TOKEN\n",
    "        sentence2 = START_TOKEN + tokenizer.encode(sentence2) + END_TOKEN\n",
    "        \n",
    "        tokenized_inputs.append(sentence1)\n",
    "        tokenized_outputs.append(sentence2)\n",
    "        \n",
    "    # 패딩\n",
    "    tokenized_inputs = tf.keras.preprocessing.sequence.pad_sequences(tokenized_inputs, \n",
    "                                                                     maxlen=MAX_LENGTH, \n",
    "                                                                     padding='post')\n",
    "    tokenized_outputs = tf.keras.preprocessing.sequence.pad_sequences(tokenized_outputs, \n",
    "                                                                      maxlen=MAX_LENGTH, \n",
    "                                                                      padding='post')\n",
    "    return tokenized_inputs, tokenized_outputs"
   ]
  },
  {
   "cell_type": "code",
   "execution_count": 30,
   "id": "79fcb3f2",
   "metadata": {},
   "outputs": [],
   "source": [
    "questions, answers = tokenize_and_filter(questions, answers)"
   ]
  },
  {
   "cell_type": "code",
   "execution_count": 31,
   "id": "161c9be8",
   "metadata": {},
   "outputs": [
    {
     "data": {
      "text/plain": [
       "((11823, 40), (11823, 40))"
      ]
     },
     "execution_count": 31,
     "metadata": {},
     "output_type": "execute_result"
    }
   ],
   "source": [
    "questions.shape, answers.shape"
   ]
  },
  {
   "cell_type": "code",
   "execution_count": 32,
   "id": "c669949d",
   "metadata": {},
   "outputs": [
    {
     "name": "stdout",
     "output_type": "stream",
     "text": [
      "[8178 7915 4207 3060   41 8179    0    0    0    0    0    0    0    0\n",
      "    0    0    0    0    0    0    0    0    0    0    0    0    0    0\n",
      "    0    0    0    0    0    0    0    0    0    0    0    0]\n",
      "[8178 3844   74 7894    1 8179    0    0    0    0    0    0    0    0\n",
      "    0    0    0    0    0    0    0    0    0    0    0    0    0    0\n",
      "    0    0    0    0    0    0    0    0    0    0    0    0]\n"
     ]
    }
   ],
   "source": [
    "print(questions[0])\n",
    "print(answers[0])"
   ]
  },
  {
   "cell_type": "markdown",
   "id": "eb59041e",
   "metadata": {},
   "source": [
    "길이 40을 맞추기 위해 뒤에 0이 패딩됨\n",
    "\n",
    "### 4. 인코더와 디코더의 입력, 레이블 만들기\n",
    "----------------\n",
    "tf.data.Dataset을 통해 데이터를 배치단위로 불러옴"
   ]
  },
  {
   "cell_type": "code",
   "execution_count": 33,
   "id": "86216087",
   "metadata": {},
   "outputs": [],
   "source": [
    "# 텐서플로우 dataset을 이용하여 셔플을 수행하되, 배치크기로 데이터를 묶음\n",
    "# 이과정에서 교사강요를 사용하기 위해 디코더의 입력과 실제값 시퀀스를 구성\n",
    "\n",
    "BATCH_SIZE = 64\n",
    "BUFFER_SIZE = 20000\n",
    "\n",
    "# 디코더의 실제값 시퀀스에서는 시작 토큰을 제거해야 함\n",
    "dataset = tf.data.Dataset.from_tensor_slices((\n",
    "    {\n",
    "        'inputs': questions,\n",
    "        'dec_inputs': answers[:, :-1] # 디코더의 입력. 마지막 패딩 토큰이 제거된 형태로 사용\n",
    "    },\n",
    "    {\n",
    "        'outputs': answers[:, 1:]  # 시작토큰 제거함\n",
    "    },\n",
    "))\n",
    "\n",
    "dataset = dataset.cache()\n",
    "dataset = dataset.shuffle(BUFFER_SIZE)\n",
    "dataset = dataset.batch(BATCH_SIZE)\n",
    "dataset = dataset.prefetch(tf.data.experimental.AUTOTUNE)"
   ]
  },
  {
   "cell_type": "code",
   "execution_count": 34,
   "id": "c05f9760",
   "metadata": {},
   "outputs": [
    {
     "name": "stdout",
     "output_type": "stream",
     "text": [
      "[8178 3844   74 7894    1 8179    0    0    0    0    0    0    0    0\n",
      "    0    0    0    0    0    0    0    0    0    0    0    0    0    0\n",
      "    0    0    0    0    0    0    0    0    0    0    0    0]\n",
      "[[8178 3844   74 7894    1 8179    0    0    0    0    0    0    0    0\n",
      "     0    0    0    0    0    0    0    0    0    0    0    0    0    0\n",
      "     0    0    0    0    0    0    0    0    0    0    0]]\n",
      "[[3844   74 7894    1 8179    0    0    0    0    0    0    0    0    0\n",
      "     0    0    0    0    0    0    0    0    0    0    0    0    0    0\n",
      "     0    0    0    0    0    0    0    0    0    0    0]]\n"
     ]
    }
   ],
   "source": [
    "# 임의의 샘플에 대해 [:, :-1]과 [:, 1:]가 어떤 의미를 갖는지 테스트\n",
    "print(answers[0])\n",
    "print(answers[:1][:, :-1]) # 마지막 토큰 제거\n",
    "print(answers[:1][:, 1:]) # 맨처음 토큰 제거"
   ]
  },
  {
   "cell_type": "markdown",
   "id": "55eaf45e",
   "metadata": {},
   "source": [
    "### 5. 트랜스포머 만들기\n",
    "------\n"
   ]
  },
  {
   "cell_type": "code",
   "execution_count": 35,
   "id": "dfb2e0f6",
   "metadata": {},
   "outputs": [
    {
     "name": "stdout",
     "output_type": "stream",
     "text": [
      "angle rads shape:  (8180, 256)\n",
      "positional encoding shape:  (1, 8180, 256)\n",
      "Tensor(\"encoder_layer_1/layer_normalization_3/batchnorm/add_1:0\", shape=(None, None, 256), dtype=float32)\n",
      "angle rads shape:  (8180, 256)\n",
      "positional encoding shape:  (1, 8180, 256)\n"
     ]
    }
   ],
   "source": [
    "tf.keras.backend.clear_session()\n",
    "\n",
    "# 하이퍼파라미터\n",
    "D_MODEL = 256\n",
    "NUM_LAYERS = 2\n",
    "NUM_HEADS = 8\n",
    "DFF = 512\n",
    "DROPOUT = 0.1\n",
    "\n",
    "model = transformer(\n",
    "    vocab_size=VOCAB_SIZE,\n",
    "    num_layers=NUM_LAYERS,\n",
    "    dff=DFF,\n",
    "    d_model=D_MODEL,\n",
    "    num_heads=NUM_HEADS,\n",
    "    dropout=DROPOUT\n",
    ")"
   ]
  },
  {
   "cell_type": "markdown",
   "id": "b570e9ce",
   "metadata": {},
   "source": [
    "학습률과 옵티마이저를 정의하고 모델을 컴파일함"
   ]
  },
  {
   "cell_type": "code",
   "execution_count": 36,
   "id": "5b6e8189",
   "metadata": {},
   "outputs": [],
   "source": [
    "learning_rate = CustomSchedule(D_MODEL)\n",
    "\n",
    "optimizer = tf.keras.optimizers.Adam(learning_rate, beta_1=0.9, beta_2=0.98, epsilon=1e-9)\n",
    "\n",
    "def accuracy(y_true, y_pred):\n",
    "    # 레이블의 크기는 (batch_size, MAX_LENGTH -1)\n",
    "    y_true = tf.reshape(y_true, shape=(-1, MAX_LENGTH-1))\n",
    "    return tf.keras.metrics.sparse_categorical_accuracy(y_true, y_pred)\n",
    "\n",
    "model.compile(optimizer=optimizer, loss=loss_function, metrics=[accuracy])"
   ]
  },
  {
   "cell_type": "code",
   "execution_count": 37,
   "id": "74f312fb",
   "metadata": {},
   "outputs": [
    {
     "name": "stdout",
     "output_type": "stream",
     "text": [
      "Epoch 1/50\n",
      "185/185 [==============================] - 108s 585ms/step - loss: 1.4597 - accuracy: 0.0305\n",
      "Epoch 2/50\n",
      "185/185 [==============================] - 177s 957ms/step - loss: 1.1809 - accuracy: 0.0494\n",
      "Epoch 3/50\n",
      "185/185 [==============================] - 188s 1s/step - loss: 1.0061 - accuracy: 0.0507\n",
      "Epoch 4/50\n",
      "185/185 [==============================] - 189s 1s/step - loss: 0.9297 - accuracy: 0.0542\n",
      "Epoch 5/50\n",
      "185/185 [==============================] - 234s 1s/step - loss: 0.8717 - accuracy: 0.0576\n",
      "Epoch 6/50\n",
      "185/185 [==============================] - 214s 1s/step - loss: 0.8113 - accuracy: 0.0619\n",
      "Epoch 7/50\n",
      "185/185 [==============================] - 198s 1s/step - loss: 0.7445 - accuracy: 0.0679\n",
      "Epoch 8/50\n",
      "185/185 [==============================] - 198s 1s/step - loss: 0.6713 - accuracy: 0.0759\n",
      "Epoch 9/50\n",
      "185/185 [==============================] - 198s 1s/step - loss: 0.5933 - accuracy: 0.0844\n",
      "Epoch 10/50\n",
      "185/185 [==============================] - 198s 1s/step - loss: 0.5113 - accuracy: 0.0938\n",
      "Epoch 11/50\n",
      "185/185 [==============================] - 191s 1s/step - loss: 0.4281 - accuracy: 0.1040\n",
      "Epoch 12/50\n",
      "185/185 [==============================] - 195s 1s/step - loss: 0.3469 - accuracy: 0.1151\n",
      "Epoch 13/50\n",
      "185/185 [==============================] - 197s 1s/step - loss: 0.2719 - accuracy: 0.1259\n",
      "Epoch 14/50\n",
      "185/185 [==============================] - 200s 1s/step - loss: 0.2068 - accuracy: 0.1361\n",
      "Epoch 15/50\n",
      "185/185 [==============================] - 201s 1s/step - loss: 0.1517 - accuracy: 0.1454\n",
      "Epoch 16/50\n",
      "185/185 [==============================] - 193s 1s/step - loss: 0.1094 - accuracy: 0.1531\n",
      "Epoch 17/50\n",
      "185/185 [==============================] - 197s 1s/step - loss: 0.0800 - accuracy: 0.1585\n",
      "Epoch 18/50\n",
      "185/185 [==============================] - 194s 1s/step - loss: 0.0619 - accuracy: 0.1620\n",
      "Epoch 19/50\n",
      "185/185 [==============================] - 196s 1s/step - loss: 0.0514 - accuracy: 0.1635\n",
      "Epoch 20/50\n",
      "185/185 [==============================] - 213s 1s/step - loss: 0.0452 - accuracy: 0.1645\n",
      "Epoch 21/50\n",
      "185/185 [==============================] - 262s 1s/step - loss: 0.0430 - accuracy: 0.1648\n",
      "Epoch 22/50\n",
      "185/185 [==============================] - 262s 1s/step - loss: 0.0406 - accuracy: 0.1653\n",
      "Epoch 23/50\n",
      "185/185 [==============================] - 285s 2s/step - loss: 0.0367 - accuracy: 0.1660\n",
      "Epoch 24/50\n",
      "185/185 [==============================] - 262s 1s/step - loss: 0.0325 - accuracy: 0.1671\n",
      "Epoch 25/50\n",
      "185/185 [==============================] - 275s 1s/step - loss: 0.0279 - accuracy: 0.1681\n",
      "Epoch 26/50\n",
      "185/185 [==============================] - 272s 1s/step - loss: 0.0256 - accuracy: 0.1687\n",
      "Epoch 27/50\n",
      "185/185 [==============================] - 254s 1s/step - loss: 0.0226 - accuracy: 0.1695\n",
      "Epoch 28/50\n",
      "185/185 [==============================] - 260s 1s/step - loss: 0.0199 - accuracy: 0.1700\n",
      "Epoch 29/50\n",
      "185/185 [==============================] - 250s 1s/step - loss: 0.0188 - accuracy: 0.1704\n",
      "Epoch 30/50\n",
      "185/185 [==============================] - 265s 1s/step - loss: 0.0168 - accuracy: 0.1709\n",
      "Epoch 31/50\n",
      "185/185 [==============================] - 254s 1s/step - loss: 0.0159 - accuracy: 0.1712\n",
      "Epoch 32/50\n",
      "185/185 [==============================] - 245s 1s/step - loss: 0.0144 - accuracy: 0.1716\n",
      "Epoch 33/50\n",
      "185/185 [==============================] - 250s 1s/step - loss: 0.0135 - accuracy: 0.1719\n",
      "Epoch 34/50\n",
      "185/185 [==============================] - 245s 1s/step - loss: 0.0125 - accuracy: 0.1720\n",
      "Epoch 35/50\n",
      "185/185 [==============================] - 249s 1s/step - loss: 0.0119 - accuracy: 0.1722\n",
      "Epoch 36/50\n",
      "185/185 [==============================] - 213s 1s/step - loss: 0.0110 - accuracy: 0.1724\n",
      "Epoch 37/50\n",
      "185/185 [==============================] - 250s 1s/step - loss: 0.0099 - accuracy: 0.1726\n",
      "Epoch 38/50\n",
      "185/185 [==============================] - 230s 1s/step - loss: 0.0097 - accuracy: 0.1728\n",
      "Epoch 39/50\n",
      "185/185 [==============================] - 240s 1s/step - loss: 0.0091 - accuracy: 0.1728\n",
      "Epoch 40/50\n",
      "185/185 [==============================] - 182s 982ms/step - loss: 0.0088 - accuracy: 0.1729\n",
      "Epoch 41/50\n",
      "185/185 [==============================] - 181s 980ms/step - loss: 0.0085 - accuracy: 0.1731\n",
      "Epoch 42/50\n",
      "185/185 [==============================] - 177s 958ms/step - loss: 0.0080 - accuracy: 0.1732\n",
      "Epoch 43/50\n",
      "185/185 [==============================] - 182s 984ms/step - loss: 0.0076 - accuracy: 0.1733\n",
      "Epoch 44/50\n",
      "185/185 [==============================] - 180s 971ms/step - loss: 0.0072 - accuracy: 0.1734\n",
      "Epoch 45/50\n",
      "185/185 [==============================] - 170s 920ms/step - loss: 0.0070 - accuracy: 0.1734\n",
      "Epoch 46/50\n",
      "185/185 [==============================] - 179s 965ms/step - loss: 0.0068 - accuracy: 0.1735\n",
      "Epoch 47/50\n",
      "185/185 [==============================] - 173s 935ms/step - loss: 0.0064 - accuracy: 0.1736\n",
      "Epoch 48/50\n",
      "185/185 [==============================] - 180s 973ms/step - loss: 0.0063 - accuracy: 0.1736\n",
      "Epoch 49/50\n",
      "185/185 [==============================] - 173s 937ms/step - loss: 0.0059 - accuracy: 0.1737\n",
      "Epoch 50/50\n",
      "185/185 [==============================] - 176s 952ms/step - loss: 0.0058 - accuracy: 0.1737\n"
     ]
    },
    {
     "data": {
      "text/plain": [
       "<tensorflow.python.keras.callbacks.History at 0x2008e956310>"
      ]
     },
     "execution_count": 37,
     "metadata": {},
     "output_type": "execute_result"
    }
   ],
   "source": [
    "# 50회 모델 학습\n",
    "EPOCHS = 50\n",
    "model.fit(dataset, epochs=EPOCHS)"
   ]
  },
  {
   "cell_type": "markdown",
   "id": "eb07fb26",
   "metadata": {},
   "source": [
    "### 7. 챗봇 평가\n",
    "-----------------\n",
    "평가를 위해 세개 함수 구현\n",
    "1. preprocess_sentence 함수 : 질문 데이터와 답변 데이터에서 했던 전처리와 동일하게 진행\n",
    "2. evaluate 함수 : 전처리가 진행된 입력을 전달하여 디코더를 통해 현재 시점 예측\n",
    "3. predict 함수 : 예측된 단어들은 문자열이 아니라 정수인 상태이므로 문자열로 다시 디코딩하고 챗봇의 대답을 출력"
   ]
  },
  {
   "cell_type": "code",
   "execution_count": 40,
   "id": "afa95924",
   "metadata": {},
   "outputs": [
    {
     "data": {
      "text/plain": [
       "(8178, 8179)"
      ]
     },
     "execution_count": 40,
     "metadata": {},
     "output_type": "execute_result"
    }
   ],
   "source": [
    "START_TOKEN[0], END_TOKEN[0]"
   ]
  },
  {
   "cell_type": "code",
   "execution_count": 41,
   "id": "bb49a237",
   "metadata": {},
   "outputs": [],
   "source": [
    "def preprocess_sentence(sentence):\n",
    "    # 단어와 구두점 사이에 공백 추가\n",
    "    sentence = re.sub(r'([?,!.])', r\" \\1 \", sentence)\n",
    "    sentence = sentence.strip()\n",
    "    return sentence\n",
    "\n",
    "def evaluate(sentence):\n",
    "    # 전처리 \n",
    "    sentence = preprocess_sentence(sentence)\n",
    "    \n",
    "    # 토큰화, 시작토큰과 종료 토큰 추가\n",
    "    sentence = tf.expand_dims(START_TOKEN + tokenizer.encode(sentence) + END_TOKEN, axis=0)\n",
    "    \n",
    "    output = tf.expand_dims(START_TOKEN, 0)\n",
    "    \n",
    "    # 디코더의 예측 시작\n",
    "    for i in range(MAX_LENGTH):\n",
    "        predictions = model(inputs=[sentence, output], training=False)\n",
    "        \n",
    "        # 현재 시점의 예측 단어 받기\n",
    "        predictions = predictions[:, -1:, :]\n",
    "        predicted_id = tf.cast(tf.argmax(predictions, axis=-1), tf.int32)\n",
    "        \n",
    "        # 만약 현재 시점의 예측 단어가 종료 토큰이면 스탑\n",
    "        if tf.equal(predicted_id, END_TOKEN[0]):\n",
    "            break\n",
    "            \n",
    "        # 현재 시점의 예측단어를 output에 연결\n",
    "        # output은 for 문의 다음 루프에서 디코더의 입력이 됨\n",
    "        output = tf.concat([output, predicted_id], axis=-1)\n",
    "        \n",
    "    # 단어 예측이 모두 끝나면 output을 리턴\n",
    "    return tf.squeeze(output, axis=0)"
   ]
  },
  {
   "cell_type": "code",
   "execution_count": 42,
   "id": "f30f7c93",
   "metadata": {},
   "outputs": [],
   "source": [
    "def predict(sentence):\n",
    "    prediction = evaluate(sentence)\n",
    "    \n",
    "    # prediction == 디코더가 리턴한 챗봇 대답에 해당하는 정수 시퀀스\n",
    "    # tokenizer.decode()를 통해 정수 시퀀스를 문자열로 디코딩\n",
    "    predicted_sentence = tokenizer.decode(\n",
    "        [i for i in prediction if i < tokenizer.vocab_size])\n",
    "    \n",
    "    print('Input: {}'.format(sentence))\n",
    "    print('Output: {}'.format(predicted_sentence))\n",
    "    \n",
    "    return predicted_sentence"
   ]
  },
  {
   "cell_type": "code",
   "execution_count": 43,
   "id": "b9e19d4f",
   "metadata": {},
   "outputs": [
    {
     "name": "stdout",
     "output_type": "stream",
     "text": [
      "Input: 영화 볼래\n",
      "Output: 최신 영화가 좋을 것 같아요 .\n"
     ]
    }
   ],
   "source": [
    "output = predict(\"영화 볼래\")"
   ]
  },
  {
   "cell_type": "code",
   "execution_count": 44,
   "id": "61e4f269",
   "metadata": {},
   "outputs": [
    {
     "name": "stdout",
     "output_type": "stream",
     "text": [
      "Input: 졸려\n",
      "Output: 오늘 일찍 주무세요 .\n"
     ]
    }
   ],
   "source": [
    "output = predict(\"졸려\")"
   ]
  },
  {
   "cell_type": "code",
   "execution_count": 45,
   "id": "c72bf3fe",
   "metadata": {},
   "outputs": [
    {
     "name": "stdout",
     "output_type": "stream",
     "text": [
      "Input: 고민 있어\n",
      "Output: 네 말씀하세요 .\n"
     ]
    }
   ],
   "source": [
    "output = predict(\"고민 있어\")"
   ]
  },
  {
   "cell_type": "code",
   "execution_count": 46,
   "id": "d8455dcc",
   "metadata": {},
   "outputs": [
    {
     "name": "stdout",
     "output_type": "stream",
     "text": [
      "Input: 너무 화가 나\n",
      "Output: 저에게 화를 덜어보세요 .\n"
     ]
    }
   ],
   "source": [
    "output = predict(\"너무 화가 나\")"
   ]
  },
  {
   "cell_type": "code",
   "execution_count": 47,
   "id": "37543531",
   "metadata": {},
   "outputs": [
    {
     "name": "stdout",
     "output_type": "stream",
     "text": [
      "Input: 일하기 싫은데\n",
      "Output: 어쩔 수 없는 일이었으지도 몰라요 .\n"
     ]
    }
   ],
   "source": [
    "output = predict(\"일하기 싫은데\")"
   ]
  },
  {
   "cell_type": "code",
   "execution_count": null,
   "id": "dcddff00",
   "metadata": {},
   "outputs": [],
   "source": []
  }
 ],
 "metadata": {
  "kernelspec": {
   "display_name": "Python 3 (ipykernel)",
   "language": "python",
   "name": "python3"
  },
  "language_info": {
   "codemirror_mode": {
    "name": "ipython",
    "version": 3
   },
   "file_extension": ".py",
   "mimetype": "text/x-python",
   "name": "python",
   "nbconvert_exporter": "python",
   "pygments_lexer": "ipython3",
   "version": "3.8.13"
  }
 },
 "nbformat": 4,
 "nbformat_minor": 5
}
