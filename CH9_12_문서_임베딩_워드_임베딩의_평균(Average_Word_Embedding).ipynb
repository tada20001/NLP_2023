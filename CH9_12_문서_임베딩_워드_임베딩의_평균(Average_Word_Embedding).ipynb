{
  "nbformat": 4,
  "nbformat_minor": 0,
  "metadata": {
    "colab": {
      "provenance": [],
      "authorship_tag": "ABX9TyNNfzicL4uiJbCt1asDzL5V",
      "include_colab_link": true
    },
    "kernelspec": {
      "name": "python3",
      "display_name": "Python 3"
    },
    "language_info": {
      "name": "python"
    }
  },
  "cells": [
    {
      "cell_type": "markdown",
      "metadata": {
        "id": "view-in-github",
        "colab_type": "text"
      },
      "source": [
        "<a href=\"https://colab.research.google.com/github/tada20001/NLP_2023/blob/main/CH9_12_%EB%AC%B8%EC%84%9C_%EC%9E%84%EB%B2%A0%EB%94%A9_%EC%9B%8C%EB%93%9C_%EC%9E%84%EB%B2%A0%EB%94%A9%EC%9D%98_%ED%8F%89%EA%B7%A0(Average_Word_Embedding).ipynb\" target=\"_parent\"><img src=\"https://colab.research.google.com/assets/colab-badge.svg\" alt=\"Open In Colab\"/></a>"
      ]
    },
    {
      "cell_type": "markdown",
      "source": [
        "문장 단어들의 임베딩 벡터들의 평균만으로 텍스트 분류하는 예시\n",
        "\n",
        "### 1. 데이터 로드와 전처리\n",
        "-------------------\n",
        "\n",
        "IMDB 리뷰데이터 사용. 등장빈도 순서 20,000개까지만 사용함"
      ],
      "metadata": {
        "id": "1oGeEAP13wHV"
      }
    },
    {
      "cell_type": "code",
      "execution_count": 1,
      "metadata": {
        "id": "cb5RmhfT3r5T"
      },
      "outputs": [],
      "source": [
        "import numpy as np\n",
        "from tensorflow.keras.datasets import imdb\n",
        "from tensorflow.keras.preprocessing.sequence import pad_sequences"
      ]
    },
    {
      "cell_type": "code",
      "source": [
        "vocab_size = 20000\n",
        "(X_train, y_train), (X_test, y_test) = imdb.load_data(num_words=vocab_size)\n",
        "print(X_train.shape)\n",
        "print(X_test.shape)"
      ],
      "metadata": {
        "colab": {
          "base_uri": "https://localhost:8080/"
        },
        "id": "UpmFXohf38kn",
        "outputId": "39e9ea74-e082-412c-a084-1d175ea890d7"
      },
      "execution_count": 2,
      "outputs": [
        {
          "output_type": "stream",
          "name": "stdout",
          "text": [
            "Downloading data from https://storage.googleapis.com/tensorflow/tf-keras-datasets/imdb.npz\n",
            "17464789/17464789 [==============================] - 0s 0us/step\n",
            "(25000,)\n",
            "(25000,)\n"
          ]
        }
      ]
    },
    {
      "cell_type": "code",
      "source": [
        "print(X_train[0])"
      ],
      "metadata": {
        "colab": {
          "base_uri": "https://localhost:8080/"
        },
        "id": "nxA4bvet4OAj",
        "outputId": "06542b1b-12e7-4a55-a92c-ee9c28ffff6d"
      },
      "execution_count": 4,
      "outputs": [
        {
          "output_type": "stream",
          "name": "stdout",
          "text": [
            "[1, 14, 22, 16, 43, 530, 973, 1622, 1385, 65, 458, 4468, 66, 3941, 4, 173, 36, 256, 5, 25, 100, 43, 838, 112, 50, 670, 2, 9, 35, 480, 284, 5, 150, 4, 172, 112, 167, 2, 336, 385, 39, 4, 172, 4536, 1111, 17, 546, 38, 13, 447, 4, 192, 50, 16, 6, 147, 2025, 19, 14, 22, 4, 1920, 4613, 469, 4, 22, 71, 87, 12, 16, 43, 530, 38, 76, 15, 13, 1247, 4, 22, 17, 515, 17, 12, 16, 626, 18, 19193, 5, 62, 386, 12, 8, 316, 8, 106, 5, 4, 2223, 5244, 16, 480, 66, 3785, 33, 4, 130, 12, 16, 38, 619, 5, 25, 124, 51, 36, 135, 48, 25, 1415, 33, 6, 22, 12, 215, 28, 77, 52, 5, 14, 407, 16, 82, 10311, 8, 4, 107, 117, 5952, 15, 256, 4, 2, 7, 3766, 5, 723, 36, 71, 43, 530, 476, 26, 400, 317, 46, 7, 4, 12118, 1029, 13, 104, 88, 4, 381, 15, 297, 98, 32, 2071, 56, 26, 141, 6, 194, 7486, 18, 4, 226, 22, 21, 134, 476, 26, 480, 5, 144, 30, 5535, 18, 51, 36, 28, 224, 92, 25, 104, 4, 226, 65, 16, 38, 1334, 88, 12, 16, 283, 5, 16, 4472, 113, 103, 32, 15, 16, 5345, 19, 178, 32]\n"
          ]
        }
      ]
    },
    {
      "cell_type": "code",
      "source": [
        "print(y_train[0])"
      ],
      "metadata": {
        "colab": {
          "base_uri": "https://localhost:8080/"
        },
        "id": "CubSbFbp5fdf",
        "outputId": "2939fe97-fb1f-4aa3-a1b6-6c7667d19fe5"
      },
      "execution_count": 5,
      "outputs": [
        {
          "output_type": "stream",
          "name": "stdout",
          "text": [
            "1\n"
          ]
        }
      ]
    },
    {
      "cell_type": "code",
      "source": [
        "## 평균길이와 최대 길이 확인\n",
        "print('훈련용 리뷰의 평균길이 :', np.mean([len(word) for word in X_train]))\n",
        "print('테스트용 리뷰의 평균길이 :', np.mean([len(word) for word in X_test]))\n",
        "print('훈련용 리뷰의 최대길이 :', max(len(word) for word in X_train))\n",
        "print('테스트용 리뷰의 최대길이 :', max(len(word) for word in X_test))\n"
      ],
      "metadata": {
        "colab": {
          "base_uri": "https://localhost:8080/"
        },
        "id": "vbytlIVk5lBH",
        "outputId": "2d80f698-bffa-4a03-a0f3-7d5dae72f37b"
      },
      "execution_count": 8,
      "outputs": [
        {
          "output_type": "stream",
          "name": "stdout",
          "text": [
            "훈련용 리뷰의 평균길이 : 238.71364\n",
            "테스트용 리뷰의 평균길이 : 230.8042\n",
            "훈련용 리뷰의 최대길이 : 2494\n",
            "테스트용 리뷰의 최대길이 : 2315\n"
          ]
        }
      ]
    },
    {
      "cell_type": "code",
      "source": [
        "# 여기서는 최대 리뷰길이를 400으로 설정하여 패딩 적용\n",
        "max_len = 400\n",
        "\n",
        "X_train = pad_sequences(X_train, maxlen=max_len)\n",
        "X_test = pad_sequences(X_test, maxlen=max_len)\n",
        "X_train.shape, X_test.shape"
      ],
      "metadata": {
        "colab": {
          "base_uri": "https://localhost:8080/"
        },
        "id": "45W8ifEM6T6J",
        "outputId": "0d298443-145d-4cf6-d024-2753bfa40143"
      },
      "execution_count": 9,
      "outputs": [
        {
          "output_type": "execute_result",
          "data": {
            "text/plain": [
              "((25000, 400), (25000, 400))"
            ]
          },
          "metadata": {},
          "execution_count": 9
        }
      ]
    },
    {
      "cell_type": "markdown",
      "source": [
        "### 2. 모델 설계\n",
        "--------------------\n",
        "GlobalAveragePoolingID()은 입력으로 들어오는 모든 벡터들의 평균을 구하는 역할을 함. Embedding() 다음에 GlobalAveragePooling1D()를 추가하면 해당 문장의 모든 단어 벡터들의 평균벡터를 구함\n",
        "\n",
        "이진 분류를 수행해야 하므로 그 후에는 시그모이드 함수를 활성화함수로 사용하는 뉴런 1개를 배치함\n",
        "\n",
        "* embedding -> average -> activation function -> compile -> training(fit)"
      ],
      "metadata": {
        "id": "lDdihvu9-Kk9"
      }
    },
    {
      "cell_type": "code",
      "source": [
        "from tensorflow.keras.models import Sequential\n",
        "from tensorflow.keras.layers import Dense, Embedding, GlobalAveragePooling1D\n",
        "from tensorflow.keras.callbacks import EarlyStopping, ModelCheckpoint"
      ],
      "metadata": {
        "id": "oN5QM3t--IDs"
      },
      "execution_count": 10,
      "outputs": []
    },
    {
      "cell_type": "code",
      "source": [
        "embedding_dim = 64\n",
        "\n",
        "model = Sequential()\n",
        "model.add(Embedding(input_dim=vocab_size, output_dim=embedding_dim))\n",
        "model.add(GlobalAveragePooling1D())\n",
        "model.add(Dense(units=1, activation='sigmoid'))\n",
        "\n",
        "es = EarlyStopping(monitor='val_loss', mode='min', verbose=1, patience=4)\n",
        "mc = ModelCheckpoint('embedding_average_model.h5', monitor='val_acc', mode='max', verbose=1, save_best_only=True)\n",
        "\n",
        "model.compile(optimizer='adam', loss='binary_crossentropy', metrics=['acc'])\n",
        "model.fit(X_train, y_train, batch_size=32, epochs=10, callbacks=[es, mc], validation_split=0.2)"
      ],
      "metadata": {
        "colab": {
          "base_uri": "https://localhost:8080/"
        },
        "id": "wmdKcyGV_BTp",
        "outputId": "a6052c89-74ba-4d77-af92-72fccef4bf68"
      },
      "execution_count": 11,
      "outputs": [
        {
          "output_type": "stream",
          "name": "stdout",
          "text": [
            "Epoch 1/10\n",
            "625/625 [==============================] - ETA: 0s - loss: 0.6288 - acc: 0.7171\n",
            "Epoch 1: val_acc improved from -inf to 0.81660, saving model to embedding_average_model.h5\n",
            "625/625 [==============================] - 16s 25ms/step - loss: 0.6288 - acc: 0.7171 - val_loss: 0.5217 - val_acc: 0.8166\n",
            "Epoch 2/10\n",
            "624/625 [============================>.] - ETA: 0s - loss: 0.4302 - acc: 0.8563\n",
            "Epoch 2: val_acc improved from 0.81660 to 0.87040, saving model to embedding_average_model.h5\n",
            "625/625 [==============================] - 16s 26ms/step - loss: 0.4301 - acc: 0.8563 - val_loss: 0.3785 - val_acc: 0.8704\n",
            "Epoch 3/10\n",
            "623/625 [============================>.] - ETA: 0s - loss: 0.3188 - acc: 0.8910\n",
            "Epoch 3: val_acc improved from 0.87040 to 0.87960, saving model to embedding_average_model.h5\n",
            "625/625 [==============================] - 14s 22ms/step - loss: 0.3185 - acc: 0.8910 - val_loss: 0.3234 - val_acc: 0.8796\n",
            "Epoch 4/10\n",
            "625/625 [==============================] - ETA: 0s - loss: 0.2616 - acc: 0.9099\n",
            "Epoch 4: val_acc improved from 0.87960 to 0.88660, saving model to embedding_average_model.h5\n",
            "625/625 [==============================] - 17s 27ms/step - loss: 0.2616 - acc: 0.9099 - val_loss: 0.2996 - val_acc: 0.8866\n",
            "Epoch 5/10\n",
            "624/625 [============================>.] - ETA: 0s - loss: 0.2244 - acc: 0.9243\n",
            "Epoch 5: val_acc improved from 0.88660 to 0.88800, saving model to embedding_average_model.h5\n",
            "625/625 [==============================] - 15s 24ms/step - loss: 0.2243 - acc: 0.9243 - val_loss: 0.2838 - val_acc: 0.8880\n",
            "Epoch 6/10\n",
            "623/625 [============================>.] - ETA: 0s - loss: 0.1957 - acc: 0.9341\n",
            "Epoch 6: val_acc improved from 0.88800 to 0.89200, saving model to embedding_average_model.h5\n",
            "625/625 [==============================] - 15s 24ms/step - loss: 0.1954 - acc: 0.9343 - val_loss: 0.2750 - val_acc: 0.8920\n",
            "Epoch 7/10\n",
            "623/625 [============================>.] - ETA: 0s - loss: 0.1719 - acc: 0.9442\n",
            "Epoch 7: val_acc improved from 0.89200 to 0.89300, saving model to embedding_average_model.h5\n",
            "625/625 [==============================] - 16s 26ms/step - loss: 0.1718 - acc: 0.9444 - val_loss: 0.2715 - val_acc: 0.8930\n",
            "Epoch 8/10\n",
            "624/625 [============================>.] - ETA: 0s - loss: 0.1524 - acc: 0.9506\n",
            "Epoch 8: val_acc improved from 0.89300 to 0.89420, saving model to embedding_average_model.h5\n",
            "625/625 [==============================] - 15s 24ms/step - loss: 0.1525 - acc: 0.9505 - val_loss: 0.2725 - val_acc: 0.8942\n",
            "Epoch 9/10\n",
            "625/625 [==============================] - ETA: 0s - loss: 0.1347 - acc: 0.9575\n",
            "Epoch 9: val_acc did not improve from 0.89420\n",
            "625/625 [==============================] - 13s 21ms/step - loss: 0.1347 - acc: 0.9575 - val_loss: 0.2816 - val_acc: 0.8916\n",
            "Epoch 10/10\n",
            "624/625 [============================>.] - ETA: 0s - loss: 0.1199 - acc: 0.9631\n",
            "Epoch 10: val_acc improved from 0.89420 to 0.89520, saving model to embedding_average_model.h5\n",
            "625/625 [==============================] - 13s 21ms/step - loss: 0.1199 - acc: 0.9631 - val_loss: 0.2784 - val_acc: 0.8952\n"
          ]
        },
        {
          "output_type": "execute_result",
          "data": {
            "text/plain": [
              "<keras.callbacks.History at 0x7fcc85115b80>"
            ]
          },
          "metadata": {},
          "execution_count": 11
        }
      ]
    },
    {
      "cell_type": "markdown",
      "source": [
        "학습이 종료된 후에 테스트 데이터로 검증 수행"
      ],
      "metadata": {
        "id": "9VoPgjjeAQhd"
      }
    },
    {
      "cell_type": "code",
      "source": [
        "from tensorflow.keras.models import load_model\n",
        "loaded_model = load_model('embedding_average_model.h5')\n",
        "\n",
        "print('\\n 테스트 정확도: %.4f' % (loaded_model.evaluate(X_test, y_test)[1]))"
      ],
      "metadata": {
        "colab": {
          "base_uri": "https://localhost:8080/"
        },
        "id": "AOwHhtgfAPDG",
        "outputId": "f895707d-598b-4b5a-c4dc-e05da5aa29d9"
      },
      "execution_count": 13,
      "outputs": [
        {
          "output_type": "stream",
          "name": "stdout",
          "text": [
            "782/782 [==============================] - 2s 2ms/step - loss: 0.2917 - acc: 0.8866\n",
            "\n",
            " 테스트 정확도: 0.8866\n"
          ]
        }
      ]
    },
    {
      "cell_type": "markdown",
      "source": [
        "신경망을 별도로 추가하지 않아도 88% 이상의 정확도를 얻어냄"
      ],
      "metadata": {
        "id": "me5ZYmxPA71l"
      }
    },
    {
      "cell_type": "code",
      "source": [],
      "metadata": {
        "id": "hIq1asdyA6Hg"
      },
      "execution_count": null,
      "outputs": []
    }
  ]
}